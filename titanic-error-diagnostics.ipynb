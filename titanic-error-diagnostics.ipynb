{
 "cells": [
  {
   "cell_type": "markdown",
   "metadata": {},
   "source": [
    "# Diagnostics to Improve Models in the Titanic Kaggle Competition\n",
    "\n",
    "[Douglas Friesen, PhD](https://www.linkedin.com/in/douglas-friesen-phd/), April 2021\n",
    "\n",
    "The sinking of the Titanic, which happened on April 15, 1912, is one of the most famous shipwrecks in history. It forms the basis of the introductory [machine learning competition](https://www.kaggle.com/c/titanic) on Kaggle. The basis of this competition is the binary classification problem: Given features of the passengers on the Titanic, predict whether or not they survived when the Titanic sunk.\n",
    "\n",
    "In this notebook, I go through the process of designing an optimal model to predict survival:\n",
    "* Understanding of Problem\n",
    "* Exploration of Data\n",
    "* Cleaning of Data\n",
    "* Feature Engineering\n",
    "* Model Selection\n",
    "* Hyperparameter optimization for models\n",
    "* Model Testing\n",
    "\n",
    "I supplement these common elements of machine learning problems in Kaggle competitions with a focus on the following:\n",
    "1. Evaluating the model predictions using Confusion Matrices, ROC curves, and Area under the curve (AUC) scores. This allows insight into modifying the threshold of a binary classifier in order to reduce false positives or false negatives (Type I and Type II error), which is applicable to many binary classification problems, such as those in healthcare.\n",
    "2. Diagnostics to point to the most efficient way to improve predictions, based on evidence of bias or variability in the models. Having models overfit and underfit data are common problems, and being able to diagnose which problem a model has can lead to pursuing efforts that improve a model.\n",
    "\n",
    "The motivation of this guide is to explore the suggestions made by Andrew Ng in his Stanford class CS229 lecture entitled: [Lecture 13 - Debugging ML Models and Error Analysis | Stanford CS229: Machine Learning (Autumn 2018)](https://www.youtube.com/watch?v=ORrStCArmP4). The main question explored in this lecture is that after a model has been created, what is the most efficient use of time to improve the model? There are many ways to improve an algorithm, and figuring out the best way involves diagnostics to understand what the main problem the model is encountering. Common problems are:\n",
    "* High bias\n",
    "* High variance\n",
    "* Problem with the optimization algorithm\n",
    "* Problem with the optimization objective\n",
    "\n",
    "Professor Ng indicates a strong understanding of these elements can save months in a tough data science problem by targeting what will actually improve performance in an underperforming model.\n",
    "\n",
    "As well, the lecture explores error analysis and ablative analysis when multiple learning components form a pipeline, to understand which part of the pipeline is key to the algorithm's success, and which parts have the most potential to improve the algorithm. We will perform ablative analysis on our features in classifying survival in this project as a step to identifying ways to improve the model developed.\n",
    "\n",
    "This notebook takes elements from other Kaggle notebooks in the setup of the features and the models.\n",
    "\n",
    "### Titanic Kaggle Competition\n",
    "\n",
    "#### Step 1. Undestanding of Problem\n",
    "\n",
    "The problem is a straight-forward [binary classification challenge](https://www.kaggle.com/c/titanic), to predict who survives the Titanic shipwreck. Passenger information is given on all passengers. Further understanding of the problem will be developed as we explore the data.\n",
    "\n",
    "#### Step 2. Exploration of Data\n",
    "\n",
    "##### 2.1: Acquire Data and store in Pandas DataFrame\n",
    "\n",
    "The training set and test set are given to us in separate csv files.\n"
   ]
  },
  {
   "cell_type": "code",
   "execution_count": 428,
   "metadata": {
    "_cell_guid": "b1076dfc-b9ad-4769-8c92-a6c4dae69d19",
    "_uuid": "8f2839f25d086af736a60e9eeb907d3b93b6e0e5"
   },
   "outputs": [],
   "source": [
    "import numpy as np\n",
    "import pandas as pd\n",
    "\n",
    "train = pd.read_csv(\"./data/train.csv\")\n",
    "test = pd.read_csv(\"./data/test.csv\")"
   ]
  },
  {
   "cell_type": "markdown",
   "metadata": {},
   "source": [
    "##### 2.2: Exploration of Data\n",
    "\n",
    "Here we'll look at the data given to us on each passenger. We'll look at the first 5 and last 5 entries in the training set."
   ]
  },
  {
   "cell_type": "code",
   "execution_count": 429,
   "metadata": {},
   "outputs": [
    {
     "data": {
      "text/html": [
       "<div>\n",
       "<style scoped>\n",
       "    .dataframe tbody tr th:only-of-type {\n",
       "        vertical-align: middle;\n",
       "    }\n",
       "\n",
       "    .dataframe tbody tr th {\n",
       "        vertical-align: top;\n",
       "    }\n",
       "\n",
       "    .dataframe thead th {\n",
       "        text-align: right;\n",
       "    }\n",
       "</style>\n",
       "<table border=\"1\" class=\"dataframe\">\n",
       "  <thead>\n",
       "    <tr style=\"text-align: right;\">\n",
       "      <th></th>\n",
       "      <th>PassengerId</th>\n",
       "      <th>Survived</th>\n",
       "      <th>Pclass</th>\n",
       "      <th>Name</th>\n",
       "      <th>Sex</th>\n",
       "      <th>Age</th>\n",
       "      <th>SibSp</th>\n",
       "      <th>Parch</th>\n",
       "      <th>Ticket</th>\n",
       "      <th>Fare</th>\n",
       "      <th>Cabin</th>\n",
       "      <th>Embarked</th>\n",
       "    </tr>\n",
       "  </thead>\n",
       "  <tbody>\n",
       "    <tr>\n",
       "      <th>0</th>\n",
       "      <td>1</td>\n",
       "      <td>0</td>\n",
       "      <td>3</td>\n",
       "      <td>Braund, Mr. Owen Harris</td>\n",
       "      <td>male</td>\n",
       "      <td>22.0</td>\n",
       "      <td>1</td>\n",
       "      <td>0</td>\n",
       "      <td>A/5 21171</td>\n",
       "      <td>7.250</td>\n",
       "      <td>NaN</td>\n",
       "      <td>S</td>\n",
       "    </tr>\n",
       "    <tr>\n",
       "      <th>1</th>\n",
       "      <td>2</td>\n",
       "      <td>1</td>\n",
       "      <td>1</td>\n",
       "      <td>Cumings, Mrs. John Bradley (Florence Briggs Th...</td>\n",
       "      <td>female</td>\n",
       "      <td>38.0</td>\n",
       "      <td>1</td>\n",
       "      <td>0</td>\n",
       "      <td>PC 17599</td>\n",
       "      <td>71.283</td>\n",
       "      <td>C85</td>\n",
       "      <td>C</td>\n",
       "    </tr>\n",
       "    <tr>\n",
       "      <th>2</th>\n",
       "      <td>3</td>\n",
       "      <td>1</td>\n",
       "      <td>3</td>\n",
       "      <td>Heikkinen, Miss. Laina</td>\n",
       "      <td>female</td>\n",
       "      <td>26.0</td>\n",
       "      <td>0</td>\n",
       "      <td>0</td>\n",
       "      <td>STON/O2. 3101282</td>\n",
       "      <td>7.925</td>\n",
       "      <td>NaN</td>\n",
       "      <td>S</td>\n",
       "    </tr>\n",
       "    <tr>\n",
       "      <th>3</th>\n",
       "      <td>4</td>\n",
       "      <td>1</td>\n",
       "      <td>1</td>\n",
       "      <td>Futrelle, Mrs. Jacques Heath (Lily May Peel)</td>\n",
       "      <td>female</td>\n",
       "      <td>35.0</td>\n",
       "      <td>1</td>\n",
       "      <td>0</td>\n",
       "      <td>113803</td>\n",
       "      <td>53.100</td>\n",
       "      <td>C123</td>\n",
       "      <td>S</td>\n",
       "    </tr>\n",
       "    <tr>\n",
       "      <th>4</th>\n",
       "      <td>5</td>\n",
       "      <td>0</td>\n",
       "      <td>3</td>\n",
       "      <td>Allen, Mr. William Henry</td>\n",
       "      <td>male</td>\n",
       "      <td>35.0</td>\n",
       "      <td>0</td>\n",
       "      <td>0</td>\n",
       "      <td>373450</td>\n",
       "      <td>8.050</td>\n",
       "      <td>NaN</td>\n",
       "      <td>S</td>\n",
       "    </tr>\n",
       "  </tbody>\n",
       "</table>\n",
       "</div>"
      ],
      "text/plain": [
       "   PassengerId  Survived  Pclass  \\\n",
       "0            1         0       3   \n",
       "1            2         1       1   \n",
       "2            3         1       3   \n",
       "3            4         1       1   \n",
       "4            5         0       3   \n",
       "\n",
       "                                                Name     Sex   Age  SibSp  \\\n",
       "0                            Braund, Mr. Owen Harris    male  22.0      1   \n",
       "1  Cumings, Mrs. John Bradley (Florence Briggs Th...  female  38.0      1   \n",
       "2                             Heikkinen, Miss. Laina  female  26.0      0   \n",
       "3       Futrelle, Mrs. Jacques Heath (Lily May Peel)  female  35.0      1   \n",
       "4                           Allen, Mr. William Henry    male  35.0      0   \n",
       "\n",
       "   Parch            Ticket    Fare Cabin Embarked  \n",
       "0      0         A/5 21171   7.250   NaN        S  \n",
       "1      0          PC 17599  71.283   C85        C  \n",
       "2      0  STON/O2. 3101282   7.925   NaN        S  \n",
       "3      0            113803  53.100  C123        S  \n",
       "4      0            373450   8.050   NaN        S  "
      ]
     },
     "execution_count": 429,
     "metadata": {},
     "output_type": "execute_result"
    }
   ],
   "source": [
    "train.head()"
   ]
  },
  {
   "cell_type": "code",
   "execution_count": 430,
   "metadata": {},
   "outputs": [
    {
     "data": {
      "text/html": [
       "<div>\n",
       "<style scoped>\n",
       "    .dataframe tbody tr th:only-of-type {\n",
       "        vertical-align: middle;\n",
       "    }\n",
       "\n",
       "    .dataframe tbody tr th {\n",
       "        vertical-align: top;\n",
       "    }\n",
       "\n",
       "    .dataframe thead th {\n",
       "        text-align: right;\n",
       "    }\n",
       "</style>\n",
       "<table border=\"1\" class=\"dataframe\">\n",
       "  <thead>\n",
       "    <tr style=\"text-align: right;\">\n",
       "      <th></th>\n",
       "      <th>PassengerId</th>\n",
       "      <th>Survived</th>\n",
       "      <th>Pclass</th>\n",
       "      <th>Name</th>\n",
       "      <th>Sex</th>\n",
       "      <th>Age</th>\n",
       "      <th>SibSp</th>\n",
       "      <th>Parch</th>\n",
       "      <th>Ticket</th>\n",
       "      <th>Fare</th>\n",
       "      <th>Cabin</th>\n",
       "      <th>Embarked</th>\n",
       "    </tr>\n",
       "  </thead>\n",
       "  <tbody>\n",
       "    <tr>\n",
       "      <th>886</th>\n",
       "      <td>887</td>\n",
       "      <td>0</td>\n",
       "      <td>2</td>\n",
       "      <td>Montvila, Rev. Juozas</td>\n",
       "      <td>male</td>\n",
       "      <td>27.0</td>\n",
       "      <td>0</td>\n",
       "      <td>0</td>\n",
       "      <td>211536</td>\n",
       "      <td>13.00</td>\n",
       "      <td>NaN</td>\n",
       "      <td>S</td>\n",
       "    </tr>\n",
       "    <tr>\n",
       "      <th>887</th>\n",
       "      <td>888</td>\n",
       "      <td>1</td>\n",
       "      <td>1</td>\n",
       "      <td>Graham, Miss. Margaret Edith</td>\n",
       "      <td>female</td>\n",
       "      <td>19.0</td>\n",
       "      <td>0</td>\n",
       "      <td>0</td>\n",
       "      <td>112053</td>\n",
       "      <td>30.00</td>\n",
       "      <td>B42</td>\n",
       "      <td>S</td>\n",
       "    </tr>\n",
       "    <tr>\n",
       "      <th>888</th>\n",
       "      <td>889</td>\n",
       "      <td>0</td>\n",
       "      <td>3</td>\n",
       "      <td>Johnston, Miss. Catherine Helen \"Carrie\"</td>\n",
       "      <td>female</td>\n",
       "      <td>NaN</td>\n",
       "      <td>1</td>\n",
       "      <td>2</td>\n",
       "      <td>W./C. 6607</td>\n",
       "      <td>23.45</td>\n",
       "      <td>NaN</td>\n",
       "      <td>S</td>\n",
       "    </tr>\n",
       "    <tr>\n",
       "      <th>889</th>\n",
       "      <td>890</td>\n",
       "      <td>1</td>\n",
       "      <td>1</td>\n",
       "      <td>Behr, Mr. Karl Howell</td>\n",
       "      <td>male</td>\n",
       "      <td>26.0</td>\n",
       "      <td>0</td>\n",
       "      <td>0</td>\n",
       "      <td>111369</td>\n",
       "      <td>30.00</td>\n",
       "      <td>C148</td>\n",
       "      <td>C</td>\n",
       "    </tr>\n",
       "    <tr>\n",
       "      <th>890</th>\n",
       "      <td>891</td>\n",
       "      <td>0</td>\n",
       "      <td>3</td>\n",
       "      <td>Dooley, Mr. Patrick</td>\n",
       "      <td>male</td>\n",
       "      <td>32.0</td>\n",
       "      <td>0</td>\n",
       "      <td>0</td>\n",
       "      <td>370376</td>\n",
       "      <td>7.75</td>\n",
       "      <td>NaN</td>\n",
       "      <td>Q</td>\n",
       "    </tr>\n",
       "  </tbody>\n",
       "</table>\n",
       "</div>"
      ],
      "text/plain": [
       "     PassengerId  Survived  Pclass                                      Name  \\\n",
       "886          887         0       2                     Montvila, Rev. Juozas   \n",
       "887          888         1       1              Graham, Miss. Margaret Edith   \n",
       "888          889         0       3  Johnston, Miss. Catherine Helen \"Carrie\"   \n",
       "889          890         1       1                     Behr, Mr. Karl Howell   \n",
       "890          891         0       3                       Dooley, Mr. Patrick   \n",
       "\n",
       "        Sex   Age  SibSp  Parch      Ticket   Fare Cabin Embarked  \n",
       "886    male  27.0      0      0      211536  13.00   NaN        S  \n",
       "887  female  19.0      0      0      112053  30.00   B42        S  \n",
       "888  female   NaN      1      2  W./C. 6607  23.45   NaN        S  \n",
       "889    male  26.0      0      0      111369  30.00  C148        C  \n",
       "890    male  32.0      0      0      370376   7.75   NaN        Q  "
      ]
     },
     "execution_count": 430,
     "metadata": {},
     "output_type": "execute_result"
    }
   ],
   "source": [
    "train.tail()"
   ]
  },
  {
   "cell_type": "markdown",
   "metadata": {},
   "source": [
    "There are 891 passengers, with 12 fields per passenger:"
   ]
  },
  {
   "cell_type": "code",
   "execution_count": 431,
   "metadata": {},
   "outputs": [
    {
     "data": {
      "text/plain": [
       "(891, 12)"
      ]
     },
     "execution_count": 431,
     "metadata": {},
     "output_type": "execute_result"
    }
   ],
   "source": [
    "train.shape"
   ]
  },
  {
   "cell_type": "markdown",
   "metadata": {},
   "source": [
    "Data Types:"
   ]
  },
  {
   "cell_type": "code",
   "execution_count": 432,
   "metadata": {
    "scrolled": true
   },
   "outputs": [
    {
     "name": "stdout",
     "output_type": "stream",
     "text": [
      "<class 'pandas.core.frame.DataFrame'>\n",
      "RangeIndex: 891 entries, 0 to 890\n",
      "Data columns (total 12 columns):\n",
      " #   Column       Non-Null Count  Dtype  \n",
      "---  ------       --------------  -----  \n",
      " 0   PassengerId  891 non-null    int64  \n",
      " 1   Survived     891 non-null    int64  \n",
      " 2   Pclass       891 non-null    int64  \n",
      " 3   Name         891 non-null    object \n",
      " 4   Sex          891 non-null    object \n",
      " 5   Age          714 non-null    float64\n",
      " 6   SibSp        891 non-null    int64  \n",
      " 7   Parch        891 non-null    int64  \n",
      " 8   Ticket       891 non-null    object \n",
      " 9   Fare         891 non-null    float64\n",
      " 10  Cabin        204 non-null    object \n",
      " 11  Embarked     889 non-null    object \n",
      "dtypes: float64(2), int64(5), object(5)\n",
      "memory usage: 83.7+ KB\n"
     ]
    }
   ],
   "source": [
    "train.info()"
   ]
  },
  {
   "cell_type": "markdown",
   "metadata": {},
   "source": [
    "There's a mixture of numeric and non-numeric types. Let's get stats on the numeric fields:"
   ]
  },
  {
   "cell_type": "code",
   "execution_count": 433,
   "metadata": {},
   "outputs": [
    {
     "data": {
      "text/html": [
       "<div>\n",
       "<style scoped>\n",
       "    .dataframe tbody tr th:only-of-type {\n",
       "        vertical-align: middle;\n",
       "    }\n",
       "\n",
       "    .dataframe tbody tr th {\n",
       "        vertical-align: top;\n",
       "    }\n",
       "\n",
       "    .dataframe thead th {\n",
       "        text-align: right;\n",
       "    }\n",
       "</style>\n",
       "<table border=\"1\" class=\"dataframe\">\n",
       "  <thead>\n",
       "    <tr style=\"text-align: right;\">\n",
       "      <th></th>\n",
       "      <th>count</th>\n",
       "      <th>mean</th>\n",
       "      <th>std</th>\n",
       "      <th>min</th>\n",
       "      <th>25%</th>\n",
       "      <th>50%</th>\n",
       "      <th>75%</th>\n",
       "      <th>max</th>\n",
       "    </tr>\n",
       "  </thead>\n",
       "  <tbody>\n",
       "    <tr>\n",
       "      <th>PassengerId</th>\n",
       "      <td>891.0</td>\n",
       "      <td>446.000</td>\n",
       "      <td>257.354</td>\n",
       "      <td>1.00</td>\n",
       "      <td>223.500</td>\n",
       "      <td>446.000</td>\n",
       "      <td>668.5</td>\n",
       "      <td>891.000</td>\n",
       "    </tr>\n",
       "    <tr>\n",
       "      <th>Survived</th>\n",
       "      <td>891.0</td>\n",
       "      <td>0.384</td>\n",
       "      <td>0.487</td>\n",
       "      <td>0.00</td>\n",
       "      <td>0.000</td>\n",
       "      <td>0.000</td>\n",
       "      <td>1.0</td>\n",
       "      <td>1.000</td>\n",
       "    </tr>\n",
       "    <tr>\n",
       "      <th>Pclass</th>\n",
       "      <td>891.0</td>\n",
       "      <td>2.309</td>\n",
       "      <td>0.836</td>\n",
       "      <td>1.00</td>\n",
       "      <td>2.000</td>\n",
       "      <td>3.000</td>\n",
       "      <td>3.0</td>\n",
       "      <td>3.000</td>\n",
       "    </tr>\n",
       "    <tr>\n",
       "      <th>Age</th>\n",
       "      <td>714.0</td>\n",
       "      <td>29.699</td>\n",
       "      <td>14.526</td>\n",
       "      <td>0.42</td>\n",
       "      <td>20.125</td>\n",
       "      <td>28.000</td>\n",
       "      <td>38.0</td>\n",
       "      <td>80.000</td>\n",
       "    </tr>\n",
       "    <tr>\n",
       "      <th>SibSp</th>\n",
       "      <td>891.0</td>\n",
       "      <td>0.523</td>\n",
       "      <td>1.103</td>\n",
       "      <td>0.00</td>\n",
       "      <td>0.000</td>\n",
       "      <td>0.000</td>\n",
       "      <td>1.0</td>\n",
       "      <td>8.000</td>\n",
       "    </tr>\n",
       "    <tr>\n",
       "      <th>Parch</th>\n",
       "      <td>891.0</td>\n",
       "      <td>0.382</td>\n",
       "      <td>0.806</td>\n",
       "      <td>0.00</td>\n",
       "      <td>0.000</td>\n",
       "      <td>0.000</td>\n",
       "      <td>0.0</td>\n",
       "      <td>6.000</td>\n",
       "    </tr>\n",
       "    <tr>\n",
       "      <th>Fare</th>\n",
       "      <td>891.0</td>\n",
       "      <td>32.204</td>\n",
       "      <td>49.693</td>\n",
       "      <td>0.00</td>\n",
       "      <td>7.910</td>\n",
       "      <td>14.454</td>\n",
       "      <td>31.0</td>\n",
       "      <td>512.329</td>\n",
       "    </tr>\n",
       "  </tbody>\n",
       "</table>\n",
       "</div>"
      ],
      "text/plain": [
       "             count     mean      std   min      25%      50%    75%      max\n",
       "PassengerId  891.0  446.000  257.354  1.00  223.500  446.000  668.5  891.000\n",
       "Survived     891.0    0.384    0.487  0.00    0.000    0.000    1.0    1.000\n",
       "Pclass       891.0    2.309    0.836  1.00    2.000    3.000    3.0    3.000\n",
       "Age          714.0   29.699   14.526  0.42   20.125   28.000   38.0   80.000\n",
       "SibSp        891.0    0.523    1.103  0.00    0.000    0.000    1.0    8.000\n",
       "Parch        891.0    0.382    0.806  0.00    0.000    0.000    0.0    6.000\n",
       "Fare         891.0   32.204   49.693  0.00    7.910   14.454   31.0  512.329"
      ]
     },
     "execution_count": 433,
     "metadata": {},
     "output_type": "execute_result"
    }
   ],
   "source": [
    "train.describe().T"
   ]
  },
  {
   "cell_type": "markdown",
   "metadata": {},
   "source": [
    "Also, let's see how many passengers are in the test set:"
   ]
  },
  {
   "cell_type": "code",
   "execution_count": 434,
   "metadata": {},
   "outputs": [
    {
     "data": {
      "text/plain": [
       "(418, 11)"
      ]
     },
     "execution_count": 434,
     "metadata": {},
     "output_type": "execute_result"
    }
   ],
   "source": [
    "test.shape"
   ]
  },
  {
   "cell_type": "markdown",
   "metadata": {},
   "source": [
    "The above exploration gives an overview of the data. To get a complete picture of the data, the type of information should be inspected for all the 891 passengers in the training set and 418 passengers in the test set. The full description of the fields is found on the [Kaggle Titanic Data page](https://www.kaggle.com/c/titanic/data).\n",
    "\n",
    "In terms of getting a better idea of which fields are most useful, we'll inspect the correlation matrix to see what's correlated with `Survived` in the training set."
   ]
  },
  {
   "cell_type": "code",
   "execution_count": 435,
   "metadata": {},
   "outputs": [
    {
     "data": {
      "text/html": [
       "<div>\n",
       "<style scoped>\n",
       "    .dataframe tbody tr th:only-of-type {\n",
       "        vertical-align: middle;\n",
       "    }\n",
       "\n",
       "    .dataframe tbody tr th {\n",
       "        vertical-align: top;\n",
       "    }\n",
       "\n",
       "    .dataframe thead th {\n",
       "        text-align: right;\n",
       "    }\n",
       "</style>\n",
       "<table border=\"1\" class=\"dataframe\">\n",
       "  <thead>\n",
       "    <tr style=\"text-align: right;\">\n",
       "      <th></th>\n",
       "      <th>PassengerId</th>\n",
       "      <th>Survived</th>\n",
       "      <th>Pclass</th>\n",
       "      <th>Age</th>\n",
       "      <th>SibSp</th>\n",
       "      <th>Parch</th>\n",
       "      <th>Fare</th>\n",
       "    </tr>\n",
       "  </thead>\n",
       "  <tbody>\n",
       "    <tr>\n",
       "      <th>PassengerId</th>\n",
       "      <td>1.000</td>\n",
       "      <td>-0.005</td>\n",
       "      <td>-0.035</td>\n",
       "      <td>0.037</td>\n",
       "      <td>-0.058</td>\n",
       "      <td>-0.002</td>\n",
       "      <td>0.013</td>\n",
       "    </tr>\n",
       "    <tr>\n",
       "      <th>Survived</th>\n",
       "      <td>-0.005</td>\n",
       "      <td>1.000</td>\n",
       "      <td>-0.338</td>\n",
       "      <td>-0.077</td>\n",
       "      <td>-0.035</td>\n",
       "      <td>0.082</td>\n",
       "      <td>0.257</td>\n",
       "    </tr>\n",
       "    <tr>\n",
       "      <th>Pclass</th>\n",
       "      <td>-0.035</td>\n",
       "      <td>-0.338</td>\n",
       "      <td>1.000</td>\n",
       "      <td>-0.369</td>\n",
       "      <td>0.083</td>\n",
       "      <td>0.018</td>\n",
       "      <td>-0.549</td>\n",
       "    </tr>\n",
       "    <tr>\n",
       "      <th>Age</th>\n",
       "      <td>0.037</td>\n",
       "      <td>-0.077</td>\n",
       "      <td>-0.369</td>\n",
       "      <td>1.000</td>\n",
       "      <td>-0.308</td>\n",
       "      <td>-0.189</td>\n",
       "      <td>0.096</td>\n",
       "    </tr>\n",
       "    <tr>\n",
       "      <th>SibSp</th>\n",
       "      <td>-0.058</td>\n",
       "      <td>-0.035</td>\n",
       "      <td>0.083</td>\n",
       "      <td>-0.308</td>\n",
       "      <td>1.000</td>\n",
       "      <td>0.415</td>\n",
       "      <td>0.160</td>\n",
       "    </tr>\n",
       "    <tr>\n",
       "      <th>Parch</th>\n",
       "      <td>-0.002</td>\n",
       "      <td>0.082</td>\n",
       "      <td>0.018</td>\n",
       "      <td>-0.189</td>\n",
       "      <td>0.415</td>\n",
       "      <td>1.000</td>\n",
       "      <td>0.216</td>\n",
       "    </tr>\n",
       "    <tr>\n",
       "      <th>Fare</th>\n",
       "      <td>0.013</td>\n",
       "      <td>0.257</td>\n",
       "      <td>-0.549</td>\n",
       "      <td>0.096</td>\n",
       "      <td>0.160</td>\n",
       "      <td>0.216</td>\n",
       "      <td>1.000</td>\n",
       "    </tr>\n",
       "  </tbody>\n",
       "</table>\n",
       "</div>"
      ],
      "text/plain": [
       "             PassengerId  Survived  Pclass    Age  SibSp  Parch   Fare\n",
       "PassengerId        1.000    -0.005  -0.035  0.037 -0.058 -0.002  0.013\n",
       "Survived          -0.005     1.000  -0.338 -0.077 -0.035  0.082  0.257\n",
       "Pclass            -0.035    -0.338   1.000 -0.369  0.083  0.018 -0.549\n",
       "Age                0.037    -0.077  -0.369  1.000 -0.308 -0.189  0.096\n",
       "SibSp             -0.058    -0.035   0.083 -0.308  1.000  0.415  0.160\n",
       "Parch             -0.002     0.082   0.018 -0.189  0.415  1.000  0.216\n",
       "Fare               0.013     0.257  -0.549  0.096  0.160  0.216  1.000"
      ]
     },
     "execution_count": 435,
     "metadata": {},
     "output_type": "execute_result"
    }
   ],
   "source": [
    "train.corr()"
   ]
  },
  {
   "cell_type": "markdown",
   "metadata": {},
   "source": [
    "Looks like Pclass and Fare are most correlated with survival in this preliminary analysis. This makes sense, as Pclass is a proxy of socio-econic status (1 = Upper; 2 = Middle; 3 = Lower). Fare also would be linked to class, as we'd assume first class tickets would cost more.\n",
    "\n",
    "This matrix includes only numeric fields, and thus leaves out important information like the gender of the passenger.\n",
    "\n",
    "Now, let's check if there is any data missing in the fields:"
   ]
  },
  {
   "cell_type": "code",
   "execution_count": 436,
   "metadata": {},
   "outputs": [
    {
     "data": {
      "text/plain": [
       "PassengerId    False\n",
       "Survived       False\n",
       "Pclass         False\n",
       "Name           False\n",
       "Sex            False\n",
       "Age             True\n",
       "SibSp          False\n",
       "Parch          False\n",
       "Ticket         False\n",
       "Fare           False\n",
       "Cabin           True\n",
       "Embarked        True\n",
       "dtype: bool"
      ]
     },
     "execution_count": 436,
     "metadata": {},
     "output_type": "execute_result"
    }
   ],
   "source": [
    "train.isna().any()"
   ]
  },
  {
   "cell_type": "markdown",
   "metadata": {},
   "source": [
    "There's data missing in the `Age`, `Cabin`, and `Embarked` fields, so we'll have to do data cleaning. Let's see how much data is missing for each field:\n"
   ]
  },
  {
   "cell_type": "code",
   "execution_count": 437,
   "metadata": {},
   "outputs": [
    {
     "data": {
      "text/plain": [
       "PassengerId      0\n",
       "Survived         0\n",
       "Pclass           0\n",
       "Name             0\n",
       "Sex              0\n",
       "Age            177\n",
       "SibSp            0\n",
       "Parch            0\n",
       "Ticket           0\n",
       "Fare             0\n",
       "Cabin          687\n",
       "Embarked         2\n",
       "dtype: int64"
      ]
     },
     "execution_count": 437,
     "metadata": {},
     "output_type": "execute_result"
    }
   ],
   "source": [
    "train.isnull().sum()"
   ]
  },
  {
   "cell_type": "markdown",
   "metadata": {},
   "source": [
    "`Age` and `Cabin` have a lot of missing data, while `Embarked` only has a few missing entries.\n",
    "To fix the data, we'll want to fix both the training set and the test set at the same time. So we'll merge the data into one DataFrame: `df`."
   ]
  },
  {
   "cell_type": "code",
   "execution_count": 438,
   "metadata": {},
   "outputs": [],
   "source": [
    "train_size = train.shape[0]\n",
    "df = pd.concat([train, test], axis=0)"
   ]
  },
  {
   "cell_type": "markdown",
   "metadata": {},
   "source": [
    "Let's inspect `df` and check for missing data:"
   ]
  },
  {
   "cell_type": "code",
   "execution_count": 439,
   "metadata": {},
   "outputs": [
    {
     "data": {
      "text/html": [
       "<div>\n",
       "<style scoped>\n",
       "    .dataframe tbody tr th:only-of-type {\n",
       "        vertical-align: middle;\n",
       "    }\n",
       "\n",
       "    .dataframe tbody tr th {\n",
       "        vertical-align: top;\n",
       "    }\n",
       "\n",
       "    .dataframe thead th {\n",
       "        text-align: right;\n",
       "    }\n",
       "</style>\n",
       "<table border=\"1\" class=\"dataframe\">\n",
       "  <thead>\n",
       "    <tr style=\"text-align: right;\">\n",
       "      <th></th>\n",
       "      <th>PassengerId</th>\n",
       "      <th>Survived</th>\n",
       "      <th>Pclass</th>\n",
       "      <th>Name</th>\n",
       "      <th>Sex</th>\n",
       "      <th>Age</th>\n",
       "      <th>SibSp</th>\n",
       "      <th>Parch</th>\n",
       "      <th>Ticket</th>\n",
       "      <th>Fare</th>\n",
       "      <th>Cabin</th>\n",
       "      <th>Embarked</th>\n",
       "    </tr>\n",
       "  </thead>\n",
       "  <tbody>\n",
       "    <tr>\n",
       "      <th>0</th>\n",
       "      <td>1</td>\n",
       "      <td>0.0</td>\n",
       "      <td>3</td>\n",
       "      <td>Braund, Mr. Owen Harris</td>\n",
       "      <td>male</td>\n",
       "      <td>22.0</td>\n",
       "      <td>1</td>\n",
       "      <td>0</td>\n",
       "      <td>A/5 21171</td>\n",
       "      <td>7.250</td>\n",
       "      <td>NaN</td>\n",
       "      <td>S</td>\n",
       "    </tr>\n",
       "    <tr>\n",
       "      <th>1</th>\n",
       "      <td>2</td>\n",
       "      <td>1.0</td>\n",
       "      <td>1</td>\n",
       "      <td>Cumings, Mrs. John Bradley (Florence Briggs Th...</td>\n",
       "      <td>female</td>\n",
       "      <td>38.0</td>\n",
       "      <td>1</td>\n",
       "      <td>0</td>\n",
       "      <td>PC 17599</td>\n",
       "      <td>71.283</td>\n",
       "      <td>C85</td>\n",
       "      <td>C</td>\n",
       "    </tr>\n",
       "    <tr>\n",
       "      <th>2</th>\n",
       "      <td>3</td>\n",
       "      <td>1.0</td>\n",
       "      <td>3</td>\n",
       "      <td>Heikkinen, Miss. Laina</td>\n",
       "      <td>female</td>\n",
       "      <td>26.0</td>\n",
       "      <td>0</td>\n",
       "      <td>0</td>\n",
       "      <td>STON/O2. 3101282</td>\n",
       "      <td>7.925</td>\n",
       "      <td>NaN</td>\n",
       "      <td>S</td>\n",
       "    </tr>\n",
       "    <tr>\n",
       "      <th>3</th>\n",
       "      <td>4</td>\n",
       "      <td>1.0</td>\n",
       "      <td>1</td>\n",
       "      <td>Futrelle, Mrs. Jacques Heath (Lily May Peel)</td>\n",
       "      <td>female</td>\n",
       "      <td>35.0</td>\n",
       "      <td>1</td>\n",
       "      <td>0</td>\n",
       "      <td>113803</td>\n",
       "      <td>53.100</td>\n",
       "      <td>C123</td>\n",
       "      <td>S</td>\n",
       "    </tr>\n",
       "    <tr>\n",
       "      <th>4</th>\n",
       "      <td>5</td>\n",
       "      <td>0.0</td>\n",
       "      <td>3</td>\n",
       "      <td>Allen, Mr. William Henry</td>\n",
       "      <td>male</td>\n",
       "      <td>35.0</td>\n",
       "      <td>0</td>\n",
       "      <td>0</td>\n",
       "      <td>373450</td>\n",
       "      <td>8.050</td>\n",
       "      <td>NaN</td>\n",
       "      <td>S</td>\n",
       "    </tr>\n",
       "    <tr>\n",
       "      <th>...</th>\n",
       "      <td>...</td>\n",
       "      <td>...</td>\n",
       "      <td>...</td>\n",
       "      <td>...</td>\n",
       "      <td>...</td>\n",
       "      <td>...</td>\n",
       "      <td>...</td>\n",
       "      <td>...</td>\n",
       "      <td>...</td>\n",
       "      <td>...</td>\n",
       "      <td>...</td>\n",
       "      <td>...</td>\n",
       "    </tr>\n",
       "    <tr>\n",
       "      <th>413</th>\n",
       "      <td>1305</td>\n",
       "      <td>NaN</td>\n",
       "      <td>3</td>\n",
       "      <td>Spector, Mr. Woolf</td>\n",
       "      <td>male</td>\n",
       "      <td>NaN</td>\n",
       "      <td>0</td>\n",
       "      <td>0</td>\n",
       "      <td>A.5. 3236</td>\n",
       "      <td>8.050</td>\n",
       "      <td>NaN</td>\n",
       "      <td>S</td>\n",
       "    </tr>\n",
       "    <tr>\n",
       "      <th>414</th>\n",
       "      <td>1306</td>\n",
       "      <td>NaN</td>\n",
       "      <td>1</td>\n",
       "      <td>Oliva y Ocana, Dona. Fermina</td>\n",
       "      <td>female</td>\n",
       "      <td>39.0</td>\n",
       "      <td>0</td>\n",
       "      <td>0</td>\n",
       "      <td>PC 17758</td>\n",
       "      <td>108.900</td>\n",
       "      <td>C105</td>\n",
       "      <td>C</td>\n",
       "    </tr>\n",
       "    <tr>\n",
       "      <th>415</th>\n",
       "      <td>1307</td>\n",
       "      <td>NaN</td>\n",
       "      <td>3</td>\n",
       "      <td>Saether, Mr. Simon Sivertsen</td>\n",
       "      <td>male</td>\n",
       "      <td>38.5</td>\n",
       "      <td>0</td>\n",
       "      <td>0</td>\n",
       "      <td>SOTON/O.Q. 3101262</td>\n",
       "      <td>7.250</td>\n",
       "      <td>NaN</td>\n",
       "      <td>S</td>\n",
       "    </tr>\n",
       "    <tr>\n",
       "      <th>416</th>\n",
       "      <td>1308</td>\n",
       "      <td>NaN</td>\n",
       "      <td>3</td>\n",
       "      <td>Ware, Mr. Frederick</td>\n",
       "      <td>male</td>\n",
       "      <td>NaN</td>\n",
       "      <td>0</td>\n",
       "      <td>0</td>\n",
       "      <td>359309</td>\n",
       "      <td>8.050</td>\n",
       "      <td>NaN</td>\n",
       "      <td>S</td>\n",
       "    </tr>\n",
       "    <tr>\n",
       "      <th>417</th>\n",
       "      <td>1309</td>\n",
       "      <td>NaN</td>\n",
       "      <td>3</td>\n",
       "      <td>Peter, Master. Michael J</td>\n",
       "      <td>male</td>\n",
       "      <td>NaN</td>\n",
       "      <td>1</td>\n",
       "      <td>1</td>\n",
       "      <td>2668</td>\n",
       "      <td>22.358</td>\n",
       "      <td>NaN</td>\n",
       "      <td>C</td>\n",
       "    </tr>\n",
       "  </tbody>\n",
       "</table>\n",
       "<p>1309 rows × 12 columns</p>\n",
       "</div>"
      ],
      "text/plain": [
       "     PassengerId  Survived  Pclass  \\\n",
       "0              1       0.0       3   \n",
       "1              2       1.0       1   \n",
       "2              3       1.0       3   \n",
       "3              4       1.0       1   \n",
       "4              5       0.0       3   \n",
       "..           ...       ...     ...   \n",
       "413         1305       NaN       3   \n",
       "414         1306       NaN       1   \n",
       "415         1307       NaN       3   \n",
       "416         1308       NaN       3   \n",
       "417         1309       NaN       3   \n",
       "\n",
       "                                                  Name     Sex   Age  SibSp  \\\n",
       "0                              Braund, Mr. Owen Harris    male  22.0      1   \n",
       "1    Cumings, Mrs. John Bradley (Florence Briggs Th...  female  38.0      1   \n",
       "2                               Heikkinen, Miss. Laina  female  26.0      0   \n",
       "3         Futrelle, Mrs. Jacques Heath (Lily May Peel)  female  35.0      1   \n",
       "4                             Allen, Mr. William Henry    male  35.0      0   \n",
       "..                                                 ...     ...   ...    ...   \n",
       "413                                 Spector, Mr. Woolf    male   NaN      0   \n",
       "414                       Oliva y Ocana, Dona. Fermina  female  39.0      0   \n",
       "415                       Saether, Mr. Simon Sivertsen    male  38.5      0   \n",
       "416                                Ware, Mr. Frederick    male   NaN      0   \n",
       "417                           Peter, Master. Michael J    male   NaN      1   \n",
       "\n",
       "     Parch              Ticket     Fare Cabin Embarked  \n",
       "0        0           A/5 21171    7.250   NaN        S  \n",
       "1        0            PC 17599   71.283   C85        C  \n",
       "2        0    STON/O2. 3101282    7.925   NaN        S  \n",
       "3        0              113803   53.100  C123        S  \n",
       "4        0              373450    8.050   NaN        S  \n",
       "..     ...                 ...      ...   ...      ...  \n",
       "413      0           A.5. 3236    8.050   NaN        S  \n",
       "414      0            PC 17758  108.900  C105        C  \n",
       "415      0  SOTON/O.Q. 3101262    7.250   NaN        S  \n",
       "416      0              359309    8.050   NaN        S  \n",
       "417      1                2668   22.358   NaN        C  \n",
       "\n",
       "[1309 rows x 12 columns]"
      ]
     },
     "execution_count": 439,
     "metadata": {},
     "output_type": "execute_result"
    }
   ],
   "source": [
    "df"
   ]
  },
  {
   "cell_type": "code",
   "execution_count": 440,
   "metadata": {},
   "outputs": [
    {
     "name": "stdout",
     "output_type": "stream",
     "text": [
      "<class 'pandas.core.frame.DataFrame'>\n",
      "Int64Index: 1309 entries, 0 to 417\n",
      "Data columns (total 12 columns):\n",
      " #   Column       Non-Null Count  Dtype  \n",
      "---  ------       --------------  -----  \n",
      " 0   PassengerId  1309 non-null   int64  \n",
      " 1   Survived     891 non-null    float64\n",
      " 2   Pclass       1309 non-null   int64  \n",
      " 3   Name         1309 non-null   object \n",
      " 4   Sex          1309 non-null   object \n",
      " 5   Age          1046 non-null   float64\n",
      " 6   SibSp        1309 non-null   int64  \n",
      " 7   Parch        1309 non-null   int64  \n",
      " 8   Ticket       1309 non-null   object \n",
      " 9   Fare         1308 non-null   float64\n",
      " 10  Cabin        295 non-null    object \n",
      " 11  Embarked     1307 non-null   object \n",
      "dtypes: float64(3), int64(4), object(5)\n",
      "memory usage: 132.9+ KB\n"
     ]
    }
   ],
   "source": [
    "df.info()"
   ]
  },
  {
   "cell_type": "code",
   "execution_count": 441,
   "metadata": {},
   "outputs": [
    {
     "data": {
      "text/plain": [
       "PassengerId       0\n",
       "Survived        418\n",
       "Pclass            0\n",
       "Name              0\n",
       "Sex               0\n",
       "Age             263\n",
       "SibSp             0\n",
       "Parch             0\n",
       "Ticket            0\n",
       "Fare              1\n",
       "Cabin          1014\n",
       "Embarked          2\n",
       "dtype: int64"
      ]
     },
     "execution_count": 441,
     "metadata": {},
     "output_type": "execute_result"
    }
   ],
   "source": [
    "df.isnull().sum()"
   ]
  },
  {
   "cell_type": "markdown",
   "metadata": {},
   "source": [
    "So we'll want to fill in the missing null values in four fields: `Age`, `Fare`, `Cabin`, and `Embarked`. The null values in the `Survived` field are from the test set.\n",
    "\n",
    "Now let's analyse the columns to gain insight from them. We'll start with the \"Sex\" Column, as it likely has good predictive information on whether the passenger survived. We'll make the new feature: `Female` as binary 1 and 0 to make it easier for classitication models."
   ]
  },
  {
   "cell_type": "code",
   "execution_count": 442,
   "metadata": {},
   "outputs": [
    {
     "data": {
      "text/html": [
       "<div>\n",
       "<style scoped>\n",
       "    .dataframe tbody tr th:only-of-type {\n",
       "        vertical-align: middle;\n",
       "    }\n",
       "\n",
       "    .dataframe tbody tr th {\n",
       "        vertical-align: top;\n",
       "    }\n",
       "\n",
       "    .dataframe thead th {\n",
       "        text-align: right;\n",
       "    }\n",
       "</style>\n",
       "<table border=\"1\" class=\"dataframe\">\n",
       "  <thead>\n",
       "    <tr style=\"text-align: right;\">\n",
       "      <th></th>\n",
       "      <th>PassengerId</th>\n",
       "      <th>Survived</th>\n",
       "      <th>Pclass</th>\n",
       "      <th>Name</th>\n",
       "      <th>Age</th>\n",
       "      <th>SibSp</th>\n",
       "      <th>Parch</th>\n",
       "      <th>Ticket</th>\n",
       "      <th>Fare</th>\n",
       "      <th>Cabin</th>\n",
       "      <th>Embarked</th>\n",
       "    </tr>\n",
       "    <tr>\n",
       "      <th>Sex</th>\n",
       "      <th></th>\n",
       "      <th></th>\n",
       "      <th></th>\n",
       "      <th></th>\n",
       "      <th></th>\n",
       "      <th></th>\n",
       "      <th></th>\n",
       "      <th></th>\n",
       "      <th></th>\n",
       "      <th></th>\n",
       "      <th></th>\n",
       "    </tr>\n",
       "  </thead>\n",
       "  <tbody>\n",
       "    <tr>\n",
       "      <th>female</th>\n",
       "      <td>466</td>\n",
       "      <td>2</td>\n",
       "      <td>3</td>\n",
       "      <td>465</td>\n",
       "      <td>70</td>\n",
       "      <td>7</td>\n",
       "      <td>8</td>\n",
       "      <td>345</td>\n",
       "      <td>189</td>\n",
       "      <td>103</td>\n",
       "      <td>3</td>\n",
       "    </tr>\n",
       "    <tr>\n",
       "      <th>male</th>\n",
       "      <td>843</td>\n",
       "      <td>2</td>\n",
       "      <td>3</td>\n",
       "      <td>842</td>\n",
       "      <td>96</td>\n",
       "      <td>7</td>\n",
       "      <td>8</td>\n",
       "      <td>739</td>\n",
       "      <td>236</td>\n",
       "      <td>132</td>\n",
       "      <td>3</td>\n",
       "    </tr>\n",
       "  </tbody>\n",
       "</table>\n",
       "</div>"
      ],
      "text/plain": [
       "        PassengerId  Survived  Pclass  Name  Age  SibSp  Parch  Ticket  Fare  \\\n",
       "Sex                                                                            \n",
       "female          466         2       3   465   70      7      8     345   189   \n",
       "male            843         2       3   842   96      7      8     739   236   \n",
       "\n",
       "        Cabin  Embarked  \n",
       "Sex                      \n",
       "female    103         3  \n",
       "male      132         3  "
      ]
     },
     "execution_count": 442,
     "metadata": {},
     "output_type": "execute_result"
    }
   ],
   "source": [
    "df.groupby('Sex').nunique()"
   ]
  },
  {
   "cell_type": "markdown",
   "metadata": {},
   "source": [
    "So `Sex` is made up entirely of 'male' and 'female' entries, so let's make our first new feature, `Female`:"
   ]
  },
  {
   "cell_type": "code",
   "execution_count": 443,
   "metadata": {},
   "outputs": [],
   "source": [
    "df['Female'] = (df['Sex'] == 'female').astype(int)"
   ]
  },
  {
   "cell_type": "markdown",
   "metadata": {},
   "source": [
    "We can check that the feature was added correctly with 1309 non-null entries:"
   ]
  },
  {
   "cell_type": "code",
   "execution_count": 444,
   "metadata": {},
   "outputs": [
    {
     "name": "stdout",
     "output_type": "stream",
     "text": [
      "<class 'pandas.core.frame.DataFrame'>\n",
      "Int64Index: 1309 entries, 0 to 417\n",
      "Data columns (total 13 columns):\n",
      " #   Column       Non-Null Count  Dtype  \n",
      "---  ------       --------------  -----  \n",
      " 0   PassengerId  1309 non-null   int64  \n",
      " 1   Survived     891 non-null    float64\n",
      " 2   Pclass       1309 non-null   int64  \n",
      " 3   Name         1309 non-null   object \n",
      " 4   Sex          1309 non-null   object \n",
      " 5   Age          1046 non-null   float64\n",
      " 6   SibSp        1309 non-null   int64  \n",
      " 7   Parch        1309 non-null   int64  \n",
      " 8   Ticket       1309 non-null   object \n",
      " 9   Fare         1308 non-null   float64\n",
      " 10  Cabin        295 non-null    object \n",
      " 11  Embarked     1307 non-null   object \n",
      " 12  Female       1309 non-null   int32  \n",
      "dtypes: float64(3), int32(1), int64(4), object(5)\n",
      "memory usage: 138.1+ KB\n"
     ]
    }
   ],
   "source": [
    "df.info()"
   ]
  },
  {
   "cell_type": "code",
   "execution_count": 445,
   "metadata": {},
   "outputs": [],
   "source": [
    "train = df[0:train_size]"
   ]
  },
  {
   "cell_type": "markdown",
   "metadata": {},
   "source": [
    "Of the training set, let's see what percentage of women survived. We recall that in the Titanic sinking, \"women and children\" should have had the highest chance of survival."
   ]
  },
  {
   "cell_type": "code",
   "execution_count": 446,
   "metadata": {},
   "outputs": [
    {
     "data": {
      "text/html": [
       "<div>\n",
       "<style scoped>\n",
       "    .dataframe tbody tr th:only-of-type {\n",
       "        vertical-align: middle;\n",
       "    }\n",
       "\n",
       "    .dataframe tbody tr th {\n",
       "        vertical-align: top;\n",
       "    }\n",
       "\n",
       "    .dataframe thead th {\n",
       "        text-align: right;\n",
       "    }\n",
       "</style>\n",
       "<table border=\"1\" class=\"dataframe\">\n",
       "  <thead>\n",
       "    <tr style=\"text-align: right;\">\n",
       "      <th></th>\n",
       "      <th>Survived</th>\n",
       "    </tr>\n",
       "    <tr>\n",
       "      <th>Female</th>\n",
       "      <th></th>\n",
       "    </tr>\n",
       "  </thead>\n",
       "  <tbody>\n",
       "    <tr>\n",
       "      <th>0</th>\n",
       "      <td>0.189</td>\n",
       "    </tr>\n",
       "    <tr>\n",
       "      <th>1</th>\n",
       "      <td>0.742</td>\n",
       "    </tr>\n",
       "  </tbody>\n",
       "</table>\n",
       "</div>"
      ],
      "text/plain": [
       "        Survived\n",
       "Female          \n",
       "0          0.189\n",
       "1          0.742"
      ]
     },
     "execution_count": 446,
     "metadata": {},
     "output_type": "execute_result"
    }
   ],
   "source": [
    "train[['Female','Survived']].groupby(['Female']).mean()"
   ]
  },
  {
   "cell_type": "markdown",
   "metadata": {},
   "source": [
    "Indeed, women had a 74% chance of surviving, vs. 19% for men, in the training set. So gender looks definitely to be an excellent predictor of survival. Let's start graphing these insights."
   ]
  },
  {
   "cell_type": "code",
   "execution_count": 447,
   "metadata": {},
   "outputs": [],
   "source": [
    "import matplotlib.pyplot as plt\n",
    "%matplotlib inline\n",
    "import seaborn as sns"
   ]
  },
  {
   "cell_type": "code",
   "execution_count": 520,
   "metadata": {},
   "outputs": [
    {
     "data": {
      "text/plain": [
       "Text(0.5, 1.0, 'Survival Rate for Men and Women')"
      ]
     },
     "execution_count": 520,
     "metadata": {},
     "output_type": "execute_result"
    },
    {
     "data": {
      "image/png": "[encoded data removed]",
      "text/plain": [
       "<Figure size 360x360 with 1 Axes>"
      ]
     },
     "metadata": {
      "needs_background": "light"
     },
     "output_type": "display_data"
    }
   ],
   "source": [
    "g =sns.catplot(x=\"Female\", y=\"Survived\", data=train, kind=\"bar\", ci=None)\n",
    "g.set(ylim=(0, 1))\n",
    "plt.title(\"Survival Rate for Men and Women\")"
   ]
  },
  {
   "cell_type": "markdown",
   "metadata": {},
   "source": [
    "Now let's investigate `Pclass`. What did a person's class indicate in terms of survival in the training set?"
   ]
  },
  {
   "cell_type": "code",
   "execution_count": 449,
   "metadata": {},
   "outputs": [
    {
     "data": {
      "text/html": [
       "<div>\n",
       "<style scoped>\n",
       "    .dataframe tbody tr th:only-of-type {\n",
       "        vertical-align: middle;\n",
       "    }\n",
       "\n",
       "    .dataframe tbody tr th {\n",
       "        vertical-align: top;\n",
       "    }\n",
       "\n",
       "    .dataframe thead th {\n",
       "        text-align: right;\n",
       "    }\n",
       "</style>\n",
       "<table border=\"1\" class=\"dataframe\">\n",
       "  <thead>\n",
       "    <tr style=\"text-align: right;\">\n",
       "      <th></th>\n",
       "      <th>Survived</th>\n",
       "    </tr>\n",
       "    <tr>\n",
       "      <th>Pclass</th>\n",
       "      <th></th>\n",
       "    </tr>\n",
       "  </thead>\n",
       "  <tbody>\n",
       "    <tr>\n",
       "      <th>1</th>\n",
       "      <td>0.630</td>\n",
       "    </tr>\n",
       "    <tr>\n",
       "      <th>2</th>\n",
       "      <td>0.473</td>\n",
       "    </tr>\n",
       "    <tr>\n",
       "      <th>3</th>\n",
       "      <td>0.242</td>\n",
       "    </tr>\n",
       "  </tbody>\n",
       "</table>\n",
       "</div>"
      ],
      "text/plain": [
       "        Survived\n",
       "Pclass          \n",
       "1          0.630\n",
       "2          0.473\n",
       "3          0.242"
      ]
     },
     "execution_count": 449,
     "metadata": {},
     "output_type": "execute_result"
    }
   ],
   "source": [
    "train[['Pclass','Survived']].groupby(['Pclass']).mean()"
   ]
  },
  {
   "cell_type": "code",
   "execution_count": 521,
   "metadata": {},
   "outputs": [
    {
     "data": {
      "text/plain": [
       "Text(0.5, 1.0, 'Survival Rate for First, Second, and Third Class Passengers')"
      ]
     },
     "execution_count": 521,
     "metadata": {},
     "output_type": "execute_result"
    },
    {
     "data": {
      "image/png": "[encoded data removed]",
      "text/plain": [
       "<Figure size 360x360 with 1 Axes>"
      ]
     },
     "metadata": {
      "needs_background": "light"
     },
     "output_type": "display_data"
    }
   ],
   "source": [
    "g = sns.catplot(x=\"Pclass\", y=\"Survived\", data=train, kind=\"bar\", ci=None)\n",
    "g.set_axis_labels(\"Pclass\", \"Survival Rate\").set(ylim=(0, 1))\n",
    "plt.title(\"Survival Rate for First, Second, and Third Class Passengers\")"
   ]
  },
  {
   "cell_type": "markdown",
   "metadata": {},
   "source": [
    "From this, class is an excellent predictor of survival as well. A first class passenger was 2.6x as likely to survive in the training set.\n",
    "\n",
    "Put Together, graphing survival for men and women in the three classes:\n",
    "    "
   ]
  },
  {
   "cell_type": "code",
   "execution_count": 451,
   "metadata": {},
   "outputs": [
    {
     "data": {
      "image/png": "[encoded data removed]",
      "text/plain": [
       "<Figure size 648x360 with 3 Axes>"
      ]
     },
     "metadata": {
      "needs_background": "light"
     },
     "output_type": "display_data"
    }
   ],
   "source": [
    "g = sns.catplot(x=\"Sex\", y=\"Survived\", col=\"Pclass\",\n",
    "                    data=train, saturation=.5,\n",
    "                    kind=\"bar\", ci=None, aspect=.6)\n",
    "(g.set_axis_labels(\"\", \"Survival Rate\")\n",
    "    .set_xticklabels([\"Men\", \"Women\"])\n",
    "    .set_titles(\"{col_name} {col_var}\")\n",
    "    .set(ylim=(0, 1))\n",
    "    .despine(left=True))  \n",
    "plt.subplots_adjust(top=0.8)"
   ]
  },
  {
   "cell_type": "markdown",
   "metadata": {},
   "source": [
    "This shows first and second class women were very likely to survive. Men in first class were much more likely to survive than men in second and third class.\n",
    "\n",
    "Next look at age:"
   ]
  },
  {
   "cell_type": "code",
   "execution_count": 452,
   "metadata": {},
   "outputs": [
    {
     "data": {
      "text/plain": [
       "count    1046.000\n",
       "mean       29.881\n",
       "std        14.413\n",
       "min         0.170\n",
       "25%        21.000\n",
       "50%        28.000\n",
       "75%        39.000\n",
       "max        80.000\n",
       "Name: Age, dtype: float64"
      ]
     },
     "execution_count": 452,
     "metadata": {},
     "output_type": "execute_result"
    }
   ],
   "source": [
    "df['Age'].describe()"
   ]
  },
  {
   "cell_type": "markdown",
   "metadata": {},
   "source": [
    "So ages ranged from 0 to 80."
   ]
  },
  {
   "cell_type": "code",
   "execution_count": 453,
   "metadata": {},
   "outputs": [
    {
     "data": {
      "text/plain": [
       "Text(0, 0.5, 'Count')"
      ]
     },
     "execution_count": 453,
     "metadata": {},
     "output_type": "execute_result"
    },
    {
     "data": {
      "image/png": "[encoded data removed]",
      "text/plain": [
       "<Figure size 432x288 with 1 Axes>"
      ]
     },
     "metadata": {
      "needs_background": "light"
     },
     "output_type": "display_data"
    }
   ],
   "source": [
    "plt.hist([df['Age']], bins=81, range=(0,81))\n",
    "plt.title(\"Age histogram\")\n",
    "plt.xlabel(\"Age\")\n",
    "plt.ylabel(\"Count\")"
   ]
  },
  {
   "cell_type": "markdown",
   "metadata": {},
   "source": [
    "Let's look at the ages of men and women who survived and those that didn't in the training set:"
   ]
  },
  {
   "cell_type": "code",
   "execution_count": 454,
   "metadata": {},
   "outputs": [
    {
     "data": {
      "text/plain": [
       "<seaborn.axisgrid.FacetGrid at 0x19593f688b0>"
      ]
     },
     "execution_count": 454,
     "metadata": {},
     "output_type": "execute_result"
    },
    {
     "data": {
      "image/png": "[encoded data removed]",
      "text/plain": [
       "<Figure size 432x432 with 4 Axes>"
      ]
     },
     "metadata": {
      "needs_background": "light"
     },
     "output_type": "display_data"
    }
   ],
   "source": [
    "g = sns.FacetGrid(train, col=\"Female\", row=\"Survived\", margin_titles=True)\n",
    "g = g.map(plt.hist, \"Age\")\n",
    "g.set_axis_labels(\"\", \"Count\")"
   ]
  },
  {
   "cell_type": "markdown",
   "metadata": {},
   "source": [
    "There's not a lot that stands out here on the surface for age indicating survival probability.\n",
    "\n",
    "Now let's look at the location where passengers embarked as it relates to those who survived (bars in lower graph are standard deviation). S = Southampton, C = Cherbourg, Q = Queenstown. "
   ]
  },
  {
   "cell_type": "code",
   "execution_count": 455,
   "metadata": {},
   "outputs": [
    {
     "data": {
      "text/plain": [
       "<seaborn.axisgrid.FacetGrid at 0x19595675850>"
      ]
     },
     "execution_count": 455,
     "metadata": {},
     "output_type": "execute_result"
    },
    {
     "data": {
      "image/png": "[encoded data removed]",
      "text/plain": [
       "<Figure size 432x288 with 1 Axes>"
      ]
     },
     "metadata": {
      "needs_background": "light"
     },
     "output_type": "display_data"
    },
    {
     "data": {
      "image/png": "[encoded data removed]",
      "text/plain": [
       "<Figure size 360x360 with 1 Axes>"
      ]
     },
     "metadata": {
      "needs_background": "light"
     },
     "output_type": "display_data"
    }
   ],
   "source": [
    "train.Embarked.value_counts().plot(kind='bar', alpha=0.55)\n",
    "plt.title(\"Passengers per boarding location\")\n",
    "plt.ylabel(\"Count\")\n",
    "\n",
    "g = sns.catplot(x = 'Embarked',y=\"Survived\", data = train,kind='point')\n",
    "\n",
    "g.set(ylim=(0, 1))\n",
    "g.set_axis_labels(\"\", \"Survival Rate\")"
   ]
  },
  {
   "cell_type": "markdown",
   "metadata": {},
   "source": [
    "S = Southampton, C = Cherbourg, Q = Queenstown. \n",
    "There isn't too much info here it appears. People from Cherbourg seemed to survive the most. How this relates to class could be explored more, to see if there is additional survival information from this feature. \n",
    "\n",
    "Now we'll process people's names, which are in a format for each person that gives their title. Title's are, for example, \"Mr.\", \"Mrs\", \"Miss\", etc.\n",
    "\n",
    "We'll put titles in categories, as there are a lot of special titles that only a few people have, like \"Capt\" and \"Countess\". The \"Special\" title category includes all these special titles."
   ]
  },
  {
   "cell_type": "code",
   "execution_count": 456,
   "metadata": {},
   "outputs": [],
   "source": [
    "# Start on getting info from people's names\n",
    "# Strip quotes out of people's names\n",
    "df['NameFixed'] = df['Name'].str.replace('\\\"','').str.strip()"
   ]
  },
  {
   "cell_type": "code",
   "execution_count": 457,
   "metadata": {},
   "outputs": [
    {
     "data": {
      "text/plain": [
       "'Najib, Miss. Adele Kiamie \"Jane\"'"
      ]
     },
     "execution_count": 457,
     "metadata": {},
     "output_type": "execute_result"
    }
   ],
   "source": [
    "df.iloc[875].Name"
   ]
  },
  {
   "cell_type": "code",
   "execution_count": 458,
   "metadata": {},
   "outputs": [
    {
     "data": {
      "text/plain": [
       "'Najib, Miss. Adele Kiamie Jane'"
      ]
     },
     "execution_count": 458,
     "metadata": {},
     "output_type": "execute_result"
    }
   ],
   "source": [
    "df.iloc[875].NameFixed"
   ]
  },
  {
   "cell_type": "code",
   "execution_count": 459,
   "metadata": {},
   "outputs": [],
   "source": [
    "titlemap = {'Mr': 1, 'Don': 2, 'Dona': 2, 'Jonkheer': 2, 'Capt' :2, 'Col': 2, 'Major': 2, 'Countess': 2,  \n",
    "            'Rev': 2, 'Sir': 2, 'Lady': 2, 'Dr': 3,  'Master': 4, 'Mme': 5, 'Miss': 5,'Mrs': 6, 'Mlle': 7, 'Ms': 8 }\n",
    "\n",
    "#titleLabels = {1: 'Mr', 2: 'Special', 3: 'Dr', 4: 'Master', 5: 'Mme/Miss', 6: 'Mrs', 7: 'Mlle', 8:'Ms' }\n",
    "titleLabels = ['Mr', 'Special', 'Dr', 'Master', 'Mme/Miss', 'Mrs', 'Mlle', 'Ms']\n",
    "df['Title'] = df['NameFixed'].str.extract('([A-Za-z]+)\\.', expand=False)\n",
    "df['TitleCat'] = df['Title'].map(titlemap)"
   ]
  },
  {
   "cell_type": "markdown",
   "metadata": {},
   "source": [
    "Here is the number of people in each title category:"
   ]
  },
  {
   "cell_type": "code",
   "execution_count": 460,
   "metadata": {},
   "outputs": [
    {
     "data": {
      "text/plain": [
       "Text(0.5, 1.0, 'Passengers per Title Category')"
      ]
     },
     "execution_count": 460,
     "metadata": {},
     "output_type": "execute_result"
    },
    {
     "data": {
      "image/png": "[encoded data removed]",
      "text/plain": [
       "<Figure size 360x360 with 1 Axes>"
      ]
     },
     "metadata": {
      "needs_background": "light"
     },
     "output_type": "display_data"
    }
   ],
   "source": [
    "g = sns.catplot(x=\"TitleCat\",data=df, kind=\"count\", ci=None)\n",
    "g.set_xticklabels(titleLabels, rotation=45, horizontalalignment='right')\n",
    "plt.title(\"Passengers per Title Category\")"
   ]
  },
  {
   "cell_type": "markdown",
   "metadata": {},
   "source": [
    "'Mr.' is by far the most common title.\n",
    "\n",
    "For now, we'll just fill in missing `Age` values with the median age of the `Title` that person is in. A more refined way to do this would be fill in the age as a model prediction, for example from a random forest based on other columns."
   ]
  },
  {
   "cell_type": "code",
   "execution_count": 461,
   "metadata": {},
   "outputs": [],
   "source": [
    "for atitle in ['Miss','Mr', 'Mrs', 'Master', 'Dr', 'Ms']:    \n",
    "    df.loc[ (df['Age'].isnull()) & (df['Title'] == atitle), 'Age'] = df[ (df['Title'] == atitle) ]['Age'].median()"
   ]
  },
  {
   "cell_type": "markdown",
   "metadata": {},
   "source": [
    "Let's check that all the `Age` values are now filled in (not null):"
   ]
  },
  {
   "cell_type": "code",
   "execution_count": 462,
   "metadata": {},
   "outputs": [
    {
     "data": {
      "text/plain": [
       "PassengerId       0\n",
       "Survived        418\n",
       "Pclass            0\n",
       "Name              0\n",
       "Sex               0\n",
       "Age               0\n",
       "SibSp             0\n",
       "Parch             0\n",
       "Ticket            0\n",
       "Fare              1\n",
       "Cabin          1014\n",
       "Embarked          2\n",
       "Female            0\n",
       "NameFixed         0\n",
       "Title             0\n",
       "TitleCat          0\n",
       "dtype: int64"
      ]
     },
     "execution_count": 462,
     "metadata": {},
     "output_type": "execute_result"
    }
   ],
   "source": [
    "df.isnull().sum()"
   ]
  },
  {
   "cell_type": "markdown",
   "metadata": {},
   "source": [
    "Next, let's fill in the rest of the null values. Inspect the one record with a missing fare:"
   ]
  },
  {
   "cell_type": "code",
   "execution_count": 463,
   "metadata": {},
   "outputs": [
    {
     "data": {
      "text/html": [
       "<div>\n",
       "<style scoped>\n",
       "    .dataframe tbody tr th:only-of-type {\n",
       "        vertical-align: middle;\n",
       "    }\n",
       "\n",
       "    .dataframe tbody tr th {\n",
       "        vertical-align: top;\n",
       "    }\n",
       "\n",
       "    .dataframe thead th {\n",
       "        text-align: right;\n",
       "    }\n",
       "</style>\n",
       "<table border=\"1\" class=\"dataframe\">\n",
       "  <thead>\n",
       "    <tr style=\"text-align: right;\">\n",
       "      <th></th>\n",
       "      <th>PassengerId</th>\n",
       "      <th>Survived</th>\n",
       "      <th>Pclass</th>\n",
       "      <th>Name</th>\n",
       "      <th>Sex</th>\n",
       "      <th>Age</th>\n",
       "      <th>SibSp</th>\n",
       "      <th>Parch</th>\n",
       "      <th>Ticket</th>\n",
       "      <th>Fare</th>\n",
       "      <th>Cabin</th>\n",
       "      <th>Embarked</th>\n",
       "      <th>Female</th>\n",
       "      <th>NameFixed</th>\n",
       "      <th>Title</th>\n",
       "      <th>TitleCat</th>\n",
       "    </tr>\n",
       "  </thead>\n",
       "  <tbody>\n",
       "    <tr>\n",
       "      <th>152</th>\n",
       "      <td>1044</td>\n",
       "      <td>NaN</td>\n",
       "      <td>3</td>\n",
       "      <td>Storey, Mr. Thomas</td>\n",
       "      <td>male</td>\n",
       "      <td>60.5</td>\n",
       "      <td>0</td>\n",
       "      <td>0</td>\n",
       "      <td>3701</td>\n",
       "      <td>NaN</td>\n",
       "      <td>NaN</td>\n",
       "      <td>S</td>\n",
       "      <td>0</td>\n",
       "      <td>Storey, Mr. Thomas</td>\n",
       "      <td>Mr</td>\n",
       "      <td>1</td>\n",
       "    </tr>\n",
       "  </tbody>\n",
       "</table>\n",
       "</div>"
      ],
      "text/plain": [
       "     PassengerId  Survived  Pclass                Name   Sex   Age  SibSp  \\\n",
       "152         1044       NaN       3  Storey, Mr. Thomas  male  60.5      0   \n",
       "\n",
       "     Parch Ticket  Fare Cabin Embarked  Female           NameFixed Title  \\\n",
       "152      0   3701   NaN   NaN        S       0  Storey, Mr. Thomas    Mr   \n",
       "\n",
       "     TitleCat  \n",
       "152         1  "
      ]
     },
     "execution_count": 463,
     "metadata": {},
     "output_type": "execute_result"
    }
   ],
   "source": [
    "df.loc[df.Fare.isnull()]"
   ]
  },
  {
   "cell_type": "markdown",
   "metadata": {},
   "source": [
    "Fill in this fare with the median fare of their class (Third class)"
   ]
  },
  {
   "cell_type": "code",
   "execution_count": 464,
   "metadata": {},
   "outputs": [],
   "source": [
    "df.loc[df.Fare.isnull(), 'Fare'] = df[ df.Pclass==3].Fare.median()"
   ]
  },
  {
   "cell_type": "code",
   "execution_count": 465,
   "metadata": {},
   "outputs": [
    {
     "data": {
      "text/html": [
       "<div>\n",
       "<style scoped>\n",
       "    .dataframe tbody tr th:only-of-type {\n",
       "        vertical-align: middle;\n",
       "    }\n",
       "\n",
       "    .dataframe tbody tr th {\n",
       "        vertical-align: top;\n",
       "    }\n",
       "\n",
       "    .dataframe thead th {\n",
       "        text-align: right;\n",
       "    }\n",
       "</style>\n",
       "<table border=\"1\" class=\"dataframe\">\n",
       "  <thead>\n",
       "    <tr style=\"text-align: right;\">\n",
       "      <th></th>\n",
       "      <th>PassengerId</th>\n",
       "      <th>Survived</th>\n",
       "      <th>Pclass</th>\n",
       "      <th>Name</th>\n",
       "      <th>Sex</th>\n",
       "      <th>Age</th>\n",
       "      <th>SibSp</th>\n",
       "      <th>Parch</th>\n",
       "      <th>Ticket</th>\n",
       "      <th>Fare</th>\n",
       "      <th>Cabin</th>\n",
       "      <th>Embarked</th>\n",
       "      <th>Female</th>\n",
       "      <th>NameFixed</th>\n",
       "      <th>Title</th>\n",
       "      <th>TitleCat</th>\n",
       "    </tr>\n",
       "  </thead>\n",
       "  <tbody>\n",
       "    <tr>\n",
       "      <th>152</th>\n",
       "      <td>1044</td>\n",
       "      <td>NaN</td>\n",
       "      <td>3</td>\n",
       "      <td>Storey, Mr. Thomas</td>\n",
       "      <td>male</td>\n",
       "      <td>60.5</td>\n",
       "      <td>0</td>\n",
       "      <td>0</td>\n",
       "      <td>3701</td>\n",
       "      <td>8.05</td>\n",
       "      <td>NaN</td>\n",
       "      <td>S</td>\n",
       "      <td>0</td>\n",
       "      <td>Storey, Mr. Thomas</td>\n",
       "      <td>Mr</td>\n",
       "      <td>1</td>\n",
       "    </tr>\n",
       "  </tbody>\n",
       "</table>\n",
       "</div>"
      ],
      "text/plain": [
       "     PassengerId  Survived  Pclass                Name   Sex   Age  SibSp  \\\n",
       "152         1044       NaN       3  Storey, Mr. Thomas  male  60.5      0   \n",
       "\n",
       "     Parch Ticket  Fare Cabin Embarked  Female           NameFixed Title  \\\n",
       "152      0   3701  8.05   NaN        S       0  Storey, Mr. Thomas    Mr   \n",
       "\n",
       "     TitleCat  \n",
       "152         1  "
      ]
     },
     "execution_count": 465,
     "metadata": {},
     "output_type": "execute_result"
    }
   ],
   "source": [
    "df.loc[df.PassengerId==1044]"
   ]
  },
  {
   "cell_type": "markdown",
   "metadata": {},
   "source": [
    "There's a lot of missing fields for the `Cabin` field. Let's make a new feature called `Deck` that extracts the deck from the cabin, and we'll make a new \"deck\" for all the people that we don't have the cabin they were in."
   ]
  },
  {
   "cell_type": "code",
   "execution_count": 466,
   "metadata": {},
   "outputs": [],
   "source": [
    "df[\"Deck\"]=df.Cabin.str[0]"
   ]
  },
  {
   "cell_type": "code",
   "execution_count": 467,
   "metadata": {},
   "outputs": [
    {
     "data": {
      "text/plain": [
       "array([nan, 'C', 'E', 'G', 'D', 'A', 'B', 'F', 'T'], dtype=object)"
      ]
     },
     "execution_count": 467,
     "metadata": {},
     "output_type": "execute_result"
    }
   ],
   "source": [
    "df[\"Deck\"].unique()"
   ]
  },
  {
   "cell_type": "markdown",
   "metadata": {},
   "source": [
    "Let's check out if deck shows any information on whether people survived or not:"
   ]
  },
  {
   "cell_type": "code",
   "execution_count": 468,
   "metadata": {},
   "outputs": [
    {
     "data": {
      "text/plain": [
       "Text(0.5, 0.98, 'Number of Passengers that survived per Deck')"
      ]
     },
     "execution_count": 468,
     "metadata": {},
     "output_type": "execute_result"
    },
    {
     "data": {
      "image/png": "[encoded data removed]",
      "text/plain": [
       "<Figure size 576x360 with 8 Axes>"
      ]
     },
     "metadata": {
      "needs_background": "light"
     },
     "output_type": "display_data"
    }
   ],
   "source": [
    "g = sns.catplot(x=\"Survived\", col=\"Deck\", col_wrap=4,\n",
    "                    data=df[df.Deck.notnull() & df.Survived.notnull()],\n",
    "                    kind=\"count\", height=2.5, aspect=.8)\n",
    "g.fig.subplots_adjust(top=0.87)\n",
    "g.fig.suptitle(\"Number of Passengers that survived per Deck\")"
   ]
  },
  {
   "cell_type": "markdown",
   "metadata": {},
   "source": [
    "People on decks: B, C, E, and D seem to have done much better than others. We'll make deck `Z` for those without deck information (ie. `Cabin` was null in the data):"
   ]
  },
  {
   "cell_type": "code",
   "execution_count": 469,
   "metadata": {},
   "outputs": [],
   "source": [
    "df.Deck.fillna('Z', inplace=True)"
   ]
  },
  {
   "cell_type": "markdown",
   "metadata": {},
   "source": [
    "There's two people with `Embarked` not filled in. Let's see if we can guess the values:"
   ]
  },
  {
   "cell_type": "code",
   "execution_count": 470,
   "metadata": {},
   "outputs": [
    {
     "data": {
      "text/html": [
       "<div>\n",
       "<style scoped>\n",
       "    .dataframe tbody tr th:only-of-type {\n",
       "        vertical-align: middle;\n",
       "    }\n",
       "\n",
       "    .dataframe tbody tr th {\n",
       "        vertical-align: top;\n",
       "    }\n",
       "\n",
       "    .dataframe thead th {\n",
       "        text-align: right;\n",
       "    }\n",
       "</style>\n",
       "<table border=\"1\" class=\"dataframe\">\n",
       "  <thead>\n",
       "    <tr style=\"text-align: right;\">\n",
       "      <th></th>\n",
       "      <th>PassengerId</th>\n",
       "      <th>Survived</th>\n",
       "      <th>Pclass</th>\n",
       "      <th>Name</th>\n",
       "      <th>Sex</th>\n",
       "      <th>Age</th>\n",
       "      <th>SibSp</th>\n",
       "      <th>Parch</th>\n",
       "      <th>Ticket</th>\n",
       "      <th>Fare</th>\n",
       "      <th>Cabin</th>\n",
       "      <th>Embarked</th>\n",
       "      <th>Female</th>\n",
       "      <th>NameFixed</th>\n",
       "      <th>Title</th>\n",
       "      <th>TitleCat</th>\n",
       "      <th>Deck</th>\n",
       "    </tr>\n",
       "  </thead>\n",
       "  <tbody>\n",
       "    <tr>\n",
       "      <th>61</th>\n",
       "      <td>62</td>\n",
       "      <td>1.0</td>\n",
       "      <td>1</td>\n",
       "      <td>Icard, Miss. Amelie</td>\n",
       "      <td>female</td>\n",
       "      <td>38.0</td>\n",
       "      <td>0</td>\n",
       "      <td>0</td>\n",
       "      <td>113572</td>\n",
       "      <td>80.0</td>\n",
       "      <td>B28</td>\n",
       "      <td>NaN</td>\n",
       "      <td>1</td>\n",
       "      <td>Icard, Miss. Amelie</td>\n",
       "      <td>Miss</td>\n",
       "      <td>5</td>\n",
       "      <td>B</td>\n",
       "    </tr>\n",
       "    <tr>\n",
       "      <th>829</th>\n",
       "      <td>830</td>\n",
       "      <td>1.0</td>\n",
       "      <td>1</td>\n",
       "      <td>Stone, Mrs. George Nelson (Martha Evelyn)</td>\n",
       "      <td>female</td>\n",
       "      <td>62.0</td>\n",
       "      <td>0</td>\n",
       "      <td>0</td>\n",
       "      <td>113572</td>\n",
       "      <td>80.0</td>\n",
       "      <td>B28</td>\n",
       "      <td>NaN</td>\n",
       "      <td>1</td>\n",
       "      <td>Stone, Mrs. George Nelson (Martha Evelyn)</td>\n",
       "      <td>Mrs</td>\n",
       "      <td>6</td>\n",
       "      <td>B</td>\n",
       "    </tr>\n",
       "  </tbody>\n",
       "</table>\n",
       "</div>"
      ],
      "text/plain": [
       "     PassengerId  Survived  Pclass                                       Name  \\\n",
       "61            62       1.0       1                        Icard, Miss. Amelie   \n",
       "829          830       1.0       1  Stone, Mrs. George Nelson (Martha Evelyn)   \n",
       "\n",
       "        Sex   Age  SibSp  Parch  Ticket  Fare Cabin Embarked  Female  \\\n",
       "61   female  38.0      0      0  113572  80.0   B28      NaN       1   \n",
       "829  female  62.0      0      0  113572  80.0   B28      NaN       1   \n",
       "\n",
       "                                     NameFixed Title  TitleCat Deck  \n",
       "61                         Icard, Miss. Amelie  Miss         5    B  \n",
       "829  Stone, Mrs. George Nelson (Martha Evelyn)   Mrs         6    B  "
      ]
     },
     "execution_count": 470,
     "metadata": {},
     "output_type": "execute_result"
    }
   ],
   "source": [
    "df[df['Embarked'].isnull()]"
   ]
  },
  {
   "cell_type": "markdown",
   "metadata": {},
   "source": [
    "Since they are first class women who survived, we'll just say they embarked at Cherbourg, which had the highest probability of survival."
   ]
  },
  {
   "cell_type": "code",
   "execution_count": 471,
   "metadata": {},
   "outputs": [],
   "source": [
    "df[\"Embarked\"] = df[\"Embarked\"].fillna('C')"
   ]
  },
  {
   "cell_type": "markdown",
   "metadata": {},
   "source": [
    "We'll make `EmbarkedCat` to be a numeric field, for easier processing for models."
   ]
  },
  {
   "cell_type": "code",
   "execution_count": 472,
   "metadata": {},
   "outputs": [],
   "source": [
    "embarkedmap = {'S':0, 'Q':1, 'C': 2}\n",
    "df['EmbarkedCat'] = df['Embarked'].map(embarkedmap)"
   ]
  },
  {
   "cell_type": "markdown",
   "metadata": {},
   "source": [
    "We now have filled in non-null values everywhere (other than the test set which doesn't have the `Survived` value, and the `Cabin` field which we will drop, since we put information from the `Cabin` into the `Deck` feature):"
   ]
  },
  {
   "cell_type": "code",
   "execution_count": 473,
   "metadata": {},
   "outputs": [
    {
     "name": "stdout",
     "output_type": "stream",
     "text": [
      "<class 'pandas.core.frame.DataFrame'>\n",
      "Int64Index: 1309 entries, 0 to 417\n",
      "Data columns (total 18 columns):\n",
      " #   Column       Non-Null Count  Dtype  \n",
      "---  ------       --------------  -----  \n",
      " 0   PassengerId  1309 non-null   int64  \n",
      " 1   Survived     891 non-null    float64\n",
      " 2   Pclass       1309 non-null   int64  \n",
      " 3   Name         1309 non-null   object \n",
      " 4   Sex          1309 non-null   object \n",
      " 5   Age          1309 non-null   float64\n",
      " 6   SibSp        1309 non-null   int64  \n",
      " 7   Parch        1309 non-null   int64  \n",
      " 8   Ticket       1309 non-null   object \n",
      " 9   Fare         1309 non-null   float64\n",
      " 10  Cabin        295 non-null    object \n",
      " 11  Embarked     1309 non-null   object \n",
      " 12  Female       1309 non-null   int32  \n",
      " 13  NameFixed    1309 non-null   object \n",
      " 14  Title        1309 non-null   object \n",
      " 15  TitleCat     1309 non-null   int64  \n",
      " 16  Deck         1309 non-null   object \n",
      " 17  EmbarkedCat  1309 non-null   int64  \n",
      "dtypes: float64(3), int32(1), int64(6), object(8)\n",
      "memory usage: 229.2+ KB\n"
     ]
    }
   ],
   "source": [
    "df.info()"
   ]
  },
  {
   "cell_type": "markdown",
   "metadata": {},
   "source": [
    "We've sorted people's title value in ascending order of survival probability."
   ]
  },
  {
   "cell_type": "code",
   "execution_count": 474,
   "metadata": {},
   "outputs": [
    {
     "data": {
      "text/plain": [
       "Text(0.5, 0.98, 'Survival Rate for each Title Category')"
      ]
     },
     "execution_count": 474,
     "metadata": {},
     "output_type": "execute_result"
    },
    {
     "data": {
      "image/png": "[encoded data removed]",
      "text/plain": [
       "<Figure size 360x360 with 1 Axes>"
      ]
     },
     "metadata": {
      "needs_background": "light"
     },
     "output_type": "display_data"
    }
   ],
   "source": [
    "g = sns.catplot(x=\"TitleCat\", y=\"Survived\", data=df[df.Survived.notnull()], kind=\"bar\")\n",
    "g.set(ylim=(0, 1))\n",
    "g.set_xticklabels(titleLabels, rotation=45, horizontalalignment='right')\n",
    "g.fig.subplots_adjust(top=0.87)\n",
    "g.fig.suptitle(\"Survival Rate for each Title Category\")"
   ]
  },
  {
   "cell_type": "markdown",
   "metadata": {},
   "source": [
    "We make a `DeckCat` feature that is numeric, in order of survival probability:"
   ]
  },
  {
   "cell_type": "code",
   "execution_count": 475,
   "metadata": {},
   "outputs": [
    {
     "data": {
      "text/plain": [
       "Text(0.5, 0.98, 'Survival Rate for each Deck Category')"
      ]
     },
     "execution_count": 475,
     "metadata": {},
     "output_type": "execute_result"
    },
    {
     "data": {
      "image/png": "[encoded data removed]",
      "text/plain": [
       "<Figure size 360x360 with 1 Axes>"
      ]
     },
     "metadata": {
      "needs_background": "light"
     },
     "output_type": "display_data"
    }
   ],
   "source": [
    "deckmap = {'T': 0, 'Z': 1, 'A': 2, 'G': 3, 'C': 4, 'F': 5, 'B' :6, 'E': 7, 'D': 8}\n",
    "df['DeckCat'] = df['Deck'].map(deckmap)\n",
    "\n",
    "g = sns.catplot(x=\"DeckCat\", y=\"Survived\", data=df[df.Survived.notnull()], kind=\"bar\")\n",
    "g.set(ylim=(0, 1))\n",
    "g.fig.subplots_adjust(top=0.87)\n",
    "g.fig.suptitle(\"Survival Rate for each Deck Category\")"
   ]
  },
  {
   "cell_type": "markdown",
   "metadata": {},
   "source": [
    "One idea is that the length of a person's name might be indicative of survival:"
   ]
  },
  {
   "cell_type": "code",
   "execution_count": 476,
   "metadata": {},
   "outputs": [],
   "source": [
    "df['NameLength'] = df.Name.fillna('').str.len()"
   ]
  },
  {
   "cell_type": "code",
   "execution_count": 477,
   "metadata": {},
   "outputs": [
    {
     "data": {
      "text/plain": [
       "count    1309.000\n",
       "mean       27.131\n",
       "std         9.507\n",
       "min        12.000\n",
       "25%        20.000\n",
       "50%        25.000\n",
       "75%        30.000\n",
       "max        82.000\n",
       "Name: NameLength, dtype: float64"
      ]
     },
     "execution_count": 477,
     "metadata": {},
     "output_type": "execute_result"
    }
   ],
   "source": [
    "df['NameLength'].describe()"
   ]
  },
  {
   "cell_type": "markdown",
   "metadata": {},
   "source": [
    "Names have lengths between 12 and 82 characters. Plot a histogram of these lengths:"
   ]
  },
  {
   "cell_type": "code",
   "execution_count": 478,
   "metadata": {},
   "outputs": [
    {
     "data": {
      "text/plain": [
       "Text(0.5, 1.0, 'Name Length Histogram')"
      ]
     },
     "execution_count": 478,
     "metadata": {},
     "output_type": "execute_result"
    },
    {
     "data": {
      "image/png": "[encoded data removed]",
      "text/plain": [
       "<Figure size 432x288 with 1 Axes>"
      ]
     },
     "metadata": {
      "needs_background": "light"
     },
     "output_type": "display_data"
    }
   ],
   "source": [
    "plt.hist([df['NameLength']], bins=15, range=(0,83))\n",
    "plt.title('Name Length Histogram')"
   ]
  },
  {
   "cell_type": "code",
   "execution_count": 479,
   "metadata": {},
   "outputs": [
    {
     "data": {
      "text/plain": [
       "Text(0.5, 1.0, 'Survival distribution by NameLength')"
      ]
     },
     "execution_count": 479,
     "metadata": {},
     "output_type": "execute_result"
    },
    {
     "data": {
      "image/png": "[encoded data removed]",
      "text/plain": [
       "<Figure size 432x288 with 1 Axes>"
      ]
     },
     "metadata": {
      "needs_background": "light"
     },
     "output_type": "display_data"
    }
   ],
   "source": [
    "grouped = df.groupby(['Survived'])\n",
    "group0 = grouped.get_group(0)\n",
    "group1 = grouped.get_group(1)\n",
    "plt.hist([group0.NameLength, group1.NameLength], bins=16, range=(0,83), stacked=False, \n",
    "        label=['Not Survived', 'Survived'], alpha=0.6)\n",
    "plt.legend(loc='best', fontsize='small')\n",
    "plt.title('Survival distribution by NameLength')"
   ]
  },
  {
   "cell_type": "markdown",
   "metadata": {},
   "source": [
    "This shows names with longer lengths tended to survive. This information might be encoded in their class, so it's questionable if this feature will give any added information.\n",
    "\n",
    "Let's look at family size, which is the sum of siblings, spouses, parents, and children of a person:"
   ]
  },
  {
   "cell_type": "code",
   "execution_count": 480,
   "metadata": {},
   "outputs": [],
   "source": [
    "df['FamilySize'] = df['SibSp'] + df['Parch']"
   ]
  },
  {
   "cell_type": "code",
   "execution_count": 481,
   "metadata": {},
   "outputs": [
    {
     "data": {
      "text/plain": [
       "<seaborn.axisgrid.FacetGrid at 0x195987c7c10>"
      ]
     },
     "execution_count": 481,
     "metadata": {},
     "output_type": "execute_result"
    },
    {
     "data": {
      "image/png": "[encoded data removed]",
      "text/plain": [
       "<Figure size 360x360 with 1 Axes>"
      ]
     },
     "metadata": {
      "needs_background": "light"
     },
     "output_type": "display_data"
    }
   ],
   "source": [
    "g = sns.catplot(x=\"FamilySize\", y=\"Survived\", data=df[df.Survived.notnull()], kind=\"bar\")\n",
    "g.set_axis_labels(\"Additional Family Members\", \"Survival Rate\").set(ylim=(0, 1))"
   ]
  },
  {
   "cell_type": "markdown",
   "metadata": {},
   "source": [
    "The above plot shows having 1-3 additional family members was best for one's chance of survival.\n",
    "\n",
    "We'll make a feature, `FamilySizeCat`, that encodes this."
   ]
  },
  {
   "cell_type": "code",
   "execution_count": 482,
   "metadata": {},
   "outputs": [
    {
     "data": {
      "text/plain": [
       "count    1309.000\n",
       "mean        0.884\n",
       "std         1.584\n",
       "min         0.000\n",
       "25%         0.000\n",
       "50%         0.000\n",
       "75%         1.000\n",
       "max        10.000\n",
       "Name: FamilySize, dtype: float64"
      ]
     },
     "execution_count": 482,
     "metadata": {},
     "output_type": "execute_result"
    }
   ],
   "source": [
    "df['FamilySize'].describe()"
   ]
  },
  {
   "cell_type": "code",
   "execution_count": 483,
   "metadata": {},
   "outputs": [],
   "source": [
    "familysizemap = {0: 1, 1: 2, 2: 2, 3: 2, 4: 0, 5: 0, 6:0, 7:0, 8:0, 9:0, 10:0}\n",
    "familysizeLabels = {'Large Family', 'Alone', 'Small Family'}\n",
    "df['FamilySizeCat'] = df['FamilySize'].map(familysizemap)"
   ]
  },
  {
   "cell_type": "code",
   "execution_count": 484,
   "metadata": {},
   "outputs": [
    {
     "data": {
      "text/plain": [
       "<seaborn.axisgrid.FacetGrid at 0x195988db700>"
      ]
     },
     "execution_count": 484,
     "metadata": {},
     "output_type": "execute_result"
    },
    {
     "data": {
      "image/png": "[encoded data removed]",
      "text/plain": [
       "<Figure size 360x360 with 1 Axes>"
      ]
     },
     "metadata": {
      "needs_background": "light"
     },
     "output_type": "display_data"
    }
   ],
   "source": [
    "g = sns.catplot(x=\"FamilySizeCat\", y=\"Survived\", data=df[df.Survived.notnull()], kind=\"bar\")\n",
    "g.set_axis_labels(\"FamilySizeCat\", \"Survival Rate\").set(ylim=(0, 1))\n",
    "g.set_xticklabels(familysizeLabels, rotation=45, horizontalalignment='right')"
   ]
  },
  {
   "cell_type": "markdown",
   "metadata": {},
   "source": [
    "We're finally done cleaning the data and doing our initial data exploration.\n",
    "\n",
    "#### Step 3. Model setup\n",
    "\n",
    "##### 3.1: Initial model creation\n",
    "\n",
    "We'll drop the columns we don't need anymore, and make our training and test sets with the data that's been cleaned."
   ]
  },
  {
   "cell_type": "code",
   "execution_count": 485,
   "metadata": {},
   "outputs": [],
   "source": [
    "from sklearn.preprocessing import StandardScaler\n",
    "\n",
    "drop_columns = ['PassengerId', 'Name', 'Sex', 'Ticket', 'Cabin', 'Embarked', 'NameFixed', 'Title', 'Deck', 'FamilySize']\n",
    "X_trainFull = df.drop(drop_columns, axis=1).iloc[:train_size]\n",
    "X_trainx = df.drop(drop_columns + ['Survived'], axis=1).iloc[:train_size]\n",
    "X_train = StandardScaler().fit_transform(X_trainx)\n",
    "y_train = df['Survived'].iloc[:train_size]\n",
    "X_testx  = df.drop(drop_columns + ['Survived'], axis=1).iloc[train_size:]\n",
    "X_test = StandardScaler().fit_transform(X_testx)"
   ]
  },
  {
   "cell_type": "markdown",
   "metadata": {},
   "source": [
    "Check our data has the columns we want, and the data is not null and in numeric fields:"
   ]
  },
  {
   "cell_type": "code",
   "execution_count": 486,
   "metadata": {},
   "outputs": [
    {
     "name": "stdout",
     "output_type": "stream",
     "text": [
      "<class 'pandas.core.frame.DataFrame'>\n",
      "Int64Index: 891 entries, 0 to 890\n",
      "Data columns (total 11 columns):\n",
      " #   Column         Non-Null Count  Dtype  \n",
      "---  ------         --------------  -----  \n",
      " 0   Pclass         891 non-null    int64  \n",
      " 1   Age            891 non-null    float64\n",
      " 2   SibSp          891 non-null    int64  \n",
      " 3   Parch          891 non-null    int64  \n",
      " 4   Fare           891 non-null    float64\n",
      " 5   Female         891 non-null    int32  \n",
      " 6   TitleCat       891 non-null    int64  \n",
      " 7   EmbarkedCat    891 non-null    int64  \n",
      " 8   DeckCat        891 non-null    int64  \n",
      " 9   NameLength     891 non-null    int64  \n",
      " 10  FamilySizeCat  891 non-null    int64  \n",
      "dtypes: float64(2), int32(1), int64(8)\n",
      "memory usage: 80.1 KB\n"
     ]
    }
   ],
   "source": [
    "X_trainx.info()"
   ]
  },
  {
   "cell_type": "markdown",
   "metadata": {},
   "source": [
    "Check the ranges of the data:"
   ]
  },
  {
   "cell_type": "code",
   "execution_count": 487,
   "metadata": {},
   "outputs": [
    {
     "data": {
      "text/html": [
       "<div>\n",
       "<style scoped>\n",
       "    .dataframe tbody tr th:only-of-type {\n",
       "        vertical-align: middle;\n",
       "    }\n",
       "\n",
       "    .dataframe tbody tr th {\n",
       "        vertical-align: top;\n",
       "    }\n",
       "\n",
       "    .dataframe thead th {\n",
       "        text-align: right;\n",
       "    }\n",
       "</style>\n",
       "<table border=\"1\" class=\"dataframe\">\n",
       "  <thead>\n",
       "    <tr style=\"text-align: right;\">\n",
       "      <th></th>\n",
       "      <th>Pclass</th>\n",
       "      <th>Age</th>\n",
       "      <th>SibSp</th>\n",
       "      <th>Parch</th>\n",
       "      <th>Fare</th>\n",
       "      <th>Female</th>\n",
       "      <th>TitleCat</th>\n",
       "      <th>EmbarkedCat</th>\n",
       "      <th>DeckCat</th>\n",
       "      <th>NameLength</th>\n",
       "      <th>FamilySizeCat</th>\n",
       "    </tr>\n",
       "  </thead>\n",
       "  <tbody>\n",
       "    <tr>\n",
       "      <th>count</th>\n",
       "      <td>891.000</td>\n",
       "      <td>891.000</td>\n",
       "      <td>891.000</td>\n",
       "      <td>891.000</td>\n",
       "      <td>891.000</td>\n",
       "      <td>891.000</td>\n",
       "      <td>891.000</td>\n",
       "      <td>891.000</td>\n",
       "      <td>891.000</td>\n",
       "      <td>891.000</td>\n",
       "      <td>891.000</td>\n",
       "    </tr>\n",
       "    <tr>\n",
       "      <th>mean</th>\n",
       "      <td>2.309</td>\n",
       "      <td>29.312</td>\n",
       "      <td>0.523</td>\n",
       "      <td>0.382</td>\n",
       "      <td>32.204</td>\n",
       "      <td>0.352</td>\n",
       "      <td>2.713</td>\n",
       "      <td>0.468</td>\n",
       "      <td>2.020</td>\n",
       "      <td>26.965</td>\n",
       "      <td>1.258</td>\n",
       "    </tr>\n",
       "    <tr>\n",
       "      <th>std</th>\n",
       "      <td>0.836</td>\n",
       "      <td>13.244</td>\n",
       "      <td>1.103</td>\n",
       "      <td>0.806</td>\n",
       "      <td>49.693</td>\n",
       "      <td>0.478</td>\n",
       "      <td>2.111</td>\n",
       "      <td>0.795</td>\n",
       "      <td>2.063</td>\n",
       "      <td>9.282</td>\n",
       "      <td>0.575</td>\n",
       "    </tr>\n",
       "    <tr>\n",
       "      <th>min</th>\n",
       "      <td>1.000</td>\n",
       "      <td>0.420</td>\n",
       "      <td>0.000</td>\n",
       "      <td>0.000</td>\n",
       "      <td>0.000</td>\n",
       "      <td>0.000</td>\n",
       "      <td>1.000</td>\n",
       "      <td>0.000</td>\n",
       "      <td>0.000</td>\n",
       "      <td>12.000</td>\n",
       "      <td>0.000</td>\n",
       "    </tr>\n",
       "    <tr>\n",
       "      <th>25%</th>\n",
       "      <td>2.000</td>\n",
       "      <td>22.000</td>\n",
       "      <td>0.000</td>\n",
       "      <td>0.000</td>\n",
       "      <td>7.910</td>\n",
       "      <td>0.000</td>\n",
       "      <td>1.000</td>\n",
       "      <td>0.000</td>\n",
       "      <td>1.000</td>\n",
       "      <td>20.000</td>\n",
       "      <td>1.000</td>\n",
       "    </tr>\n",
       "    <tr>\n",
       "      <th>50%</th>\n",
       "      <td>3.000</td>\n",
       "      <td>29.000</td>\n",
       "      <td>0.000</td>\n",
       "      <td>0.000</td>\n",
       "      <td>14.454</td>\n",
       "      <td>0.000</td>\n",
       "      <td>1.000</td>\n",
       "      <td>0.000</td>\n",
       "      <td>1.000</td>\n",
       "      <td>25.000</td>\n",
       "      <td>1.000</td>\n",
       "    </tr>\n",
       "    <tr>\n",
       "      <th>75%</th>\n",
       "      <td>3.000</td>\n",
       "      <td>35.500</td>\n",
       "      <td>1.000</td>\n",
       "      <td>0.000</td>\n",
       "      <td>31.000</td>\n",
       "      <td>1.000</td>\n",
       "      <td>5.000</td>\n",
       "      <td>1.000</td>\n",
       "      <td>1.000</td>\n",
       "      <td>30.000</td>\n",
       "      <td>2.000</td>\n",
       "    </tr>\n",
       "    <tr>\n",
       "      <th>max</th>\n",
       "      <td>3.000</td>\n",
       "      <td>80.000</td>\n",
       "      <td>8.000</td>\n",
       "      <td>6.000</td>\n",
       "      <td>512.329</td>\n",
       "      <td>1.000</td>\n",
       "      <td>8.000</td>\n",
       "      <td>2.000</td>\n",
       "      <td>8.000</td>\n",
       "      <td>82.000</td>\n",
       "      <td>2.000</td>\n",
       "    </tr>\n",
       "  </tbody>\n",
       "</table>\n",
       "</div>"
      ],
      "text/plain": [
       "        Pclass      Age    SibSp    Parch     Fare   Female  TitleCat  \\\n",
       "count  891.000  891.000  891.000  891.000  891.000  891.000   891.000   \n",
       "mean     2.309   29.312    0.523    0.382   32.204    0.352     2.713   \n",
       "std      0.836   13.244    1.103    0.806   49.693    0.478     2.111   \n",
       "min      1.000    0.420    0.000    0.000    0.000    0.000     1.000   \n",
       "25%      2.000   22.000    0.000    0.000    7.910    0.000     1.000   \n",
       "50%      3.000   29.000    0.000    0.000   14.454    0.000     1.000   \n",
       "75%      3.000   35.500    1.000    0.000   31.000    1.000     5.000   \n",
       "max      3.000   80.000    8.000    6.000  512.329    1.000     8.000   \n",
       "\n",
       "       EmbarkedCat  DeckCat  NameLength  FamilySizeCat  \n",
       "count      891.000  891.000     891.000        891.000  \n",
       "mean         0.468    2.020      26.965          1.258  \n",
       "std          0.795    2.063       9.282          0.575  \n",
       "min          0.000    0.000      12.000          0.000  \n",
       "25%          0.000    1.000      20.000          1.000  \n",
       "50%          0.000    1.000      25.000          1.000  \n",
       "75%          1.000    1.000      30.000          2.000  \n",
       "max          2.000    8.000      82.000          2.000  "
      ]
     },
     "execution_count": 487,
     "metadata": {},
     "output_type": "execute_result"
    }
   ],
   "source": [
    "X_trainx.describe()"
   ]
  },
  {
   "cell_type": "markdown",
   "metadata": {},
   "source": [
    "Inspect the data:"
   ]
  },
  {
   "cell_type": "code",
   "execution_count": 488,
   "metadata": {},
   "outputs": [
    {
     "data": {
      "text/html": [
       "<div>\n",
       "<style scoped>\n",
       "    .dataframe tbody tr th:only-of-type {\n",
       "        vertical-align: middle;\n",
       "    }\n",
       "\n",
       "    .dataframe tbody tr th {\n",
       "        vertical-align: top;\n",
       "    }\n",
       "\n",
       "    .dataframe thead th {\n",
       "        text-align: right;\n",
       "    }\n",
       "</style>\n",
       "<table border=\"1\" class=\"dataframe\">\n",
       "  <thead>\n",
       "    <tr style=\"text-align: right;\">\n",
       "      <th></th>\n",
       "      <th>Pclass</th>\n",
       "      <th>Age</th>\n",
       "      <th>SibSp</th>\n",
       "      <th>Parch</th>\n",
       "      <th>Fare</th>\n",
       "      <th>Female</th>\n",
       "      <th>TitleCat</th>\n",
       "      <th>EmbarkedCat</th>\n",
       "      <th>DeckCat</th>\n",
       "      <th>NameLength</th>\n",
       "      <th>FamilySizeCat</th>\n",
       "    </tr>\n",
       "  </thead>\n",
       "  <tbody>\n",
       "    <tr>\n",
       "      <th>0</th>\n",
       "      <td>3</td>\n",
       "      <td>22.0</td>\n",
       "      <td>1</td>\n",
       "      <td>0</td>\n",
       "      <td>7.250</td>\n",
       "      <td>0</td>\n",
       "      <td>1</td>\n",
       "      <td>0</td>\n",
       "      <td>1</td>\n",
       "      <td>23</td>\n",
       "      <td>2</td>\n",
       "    </tr>\n",
       "    <tr>\n",
       "      <th>1</th>\n",
       "      <td>1</td>\n",
       "      <td>38.0</td>\n",
       "      <td>1</td>\n",
       "      <td>0</td>\n",
       "      <td>71.283</td>\n",
       "      <td>1</td>\n",
       "      <td>6</td>\n",
       "      <td>2</td>\n",
       "      <td>4</td>\n",
       "      <td>51</td>\n",
       "      <td>2</td>\n",
       "    </tr>\n",
       "    <tr>\n",
       "      <th>2</th>\n",
       "      <td>3</td>\n",
       "      <td>26.0</td>\n",
       "      <td>0</td>\n",
       "      <td>0</td>\n",
       "      <td>7.925</td>\n",
       "      <td>1</td>\n",
       "      <td>5</td>\n",
       "      <td>0</td>\n",
       "      <td>1</td>\n",
       "      <td>22</td>\n",
       "      <td>1</td>\n",
       "    </tr>\n",
       "    <tr>\n",
       "      <th>3</th>\n",
       "      <td>1</td>\n",
       "      <td>35.0</td>\n",
       "      <td>1</td>\n",
       "      <td>0</td>\n",
       "      <td>53.100</td>\n",
       "      <td>1</td>\n",
       "      <td>6</td>\n",
       "      <td>0</td>\n",
       "      <td>4</td>\n",
       "      <td>44</td>\n",
       "      <td>2</td>\n",
       "    </tr>\n",
       "    <tr>\n",
       "      <th>4</th>\n",
       "      <td>3</td>\n",
       "      <td>35.0</td>\n",
       "      <td>0</td>\n",
       "      <td>0</td>\n",
       "      <td>8.050</td>\n",
       "      <td>0</td>\n",
       "      <td>1</td>\n",
       "      <td>0</td>\n",
       "      <td>1</td>\n",
       "      <td>24</td>\n",
       "      <td>1</td>\n",
       "    </tr>\n",
       "  </tbody>\n",
       "</table>\n",
       "</div>"
      ],
      "text/plain": [
       "   Pclass   Age  SibSp  Parch    Fare  Female  TitleCat  EmbarkedCat  DeckCat  \\\n",
       "0       3  22.0      1      0   7.250       0         1            0        1   \n",
       "1       1  38.0      1      0  71.283       1         6            2        4   \n",
       "2       3  26.0      0      0   7.925       1         5            0        1   \n",
       "3       1  35.0      1      0  53.100       1         6            0        4   \n",
       "4       3  35.0      0      0   8.050       0         1            0        1   \n",
       "\n",
       "   NameLength  FamilySizeCat  \n",
       "0          23              2  \n",
       "1          51              2  \n",
       "2          22              1  \n",
       "3          44              2  \n",
       "4          24              1  "
      ]
     },
     "execution_count": 488,
     "metadata": {},
     "output_type": "execute_result"
    }
   ],
   "source": [
    "X_trainx.head()"
   ]
  },
  {
   "cell_type": "markdown",
   "metadata": {},
   "source": [
    "Now that all the fields are numeric, check which fields are most correlated with survival:"
   ]
  },
  {
   "cell_type": "code",
   "execution_count": 489,
   "metadata": {},
   "outputs": [
    {
     "data": {
      "text/plain": [
       "<AxesSubplot:>"
      ]
     },
     "execution_count": 489,
     "metadata": {},
     "output_type": "execute_result"
    },
    {
     "data": {
      "image/png": "[encoded data removed]",
      "text/plain": [
       "<Figure size 1800x1152 with 2 Axes>"
      ]
     },
     "metadata": {
      "needs_background": "light"
     },
     "output_type": "display_data"
    }
   ],
   "source": [
    "f, ax = plt.subplots(figsize = [25,16])\n",
    "sns.heatmap(X_trainFull.corr(),linewidths = .5, annot = True, cmap = 'YlGnBu', square = True)"
   ]
  },
  {
   "cell_type": "markdown",
   "metadata": {},
   "source": [
    "As expected, `TitleCat` and `Female` are most correlated with survival, and they are also very correlated to each other.\n",
    "\n",
    "Now we'll make several classifiers using different models:"
   ]
  },
  {
   "cell_type": "code",
   "execution_count": 490,
   "metadata": {},
   "outputs": [],
   "source": [
    "from sklearn.tree import DecisionTreeClassifier\n",
    "from sklearn.model_selection import train_test_split, KFold, cross_val_score, GridSearchCV\n",
    "from sklearn.ensemble import RandomForestClassifier, AdaBoostClassifier, BaggingClassifier, ExtraTreesClassifier\n",
    "from sklearn.linear_model import LogisticRegression\n",
    "from sklearn.svm import SVC\n",
    "from sklearn.neighbors import KNeighborsClassifier\n",
    "from xgboost import XGBClassifier, plot_importance "
   ]
  },
  {
   "cell_type": "code",
   "execution_count": 491,
   "metadata": {},
   "outputs": [],
   "source": [
    "clf_rf = RandomForestClassifier()\n",
    "clf_et = ExtraTreesClassifier()\n",
    "clf_bc = BaggingClassifier()\n",
    "clf_ada = AdaBoostClassifier()\n",
    "clf_dt = DecisionTreeClassifier()\n",
    "clf_xg = XGBClassifier()\n",
    "clf_lr = LogisticRegression()\n",
    "clf_svm = SVC()"
   ]
  },
  {
   "cell_type": "code",
   "execution_count": 492,
   "metadata": {},
   "outputs": [],
   "source": [
    "Classifiers = ['RandomForest','ExtraTrees','Bagging','AdaBoost','DecisionTree','XGBoost','LogisticRegression','SVM']\n",
    "scores = []\n",
    "models = [clf_rf, clf_et, clf_bc, clf_ada, clf_dt, clf_xg, clf_lr, clf_svm]\n",
    "for model in models:\n",
    "    score = cross_val_score(model, X_train, y_train, scoring = 'accuracy', cv = 10, n_jobs = -1).mean()\n",
    "    scores.append(score)"
   ]
  },
  {
   "cell_type": "code",
   "execution_count": 493,
   "metadata": {},
   "outputs": [],
   "source": [
    "mode = pd.DataFrame(scores, index = Classifiers, columns = ['score']).sort_values(by = 'score',\n",
    "             ascending = False)"
   ]
  },
  {
   "cell_type": "markdown",
   "metadata": {},
   "source": [
    "With only their default hyperparameters, here are their accuracy scores using 10-fold cross-validation on the training set:"
   ]
  },
  {
   "cell_type": "code",
   "execution_count": 494,
   "metadata": {},
   "outputs": [
    {
     "data": {
      "text/html": [
       "<div>\n",
       "<style scoped>\n",
       "    .dataframe tbody tr th:only-of-type {\n",
       "        vertical-align: middle;\n",
       "    }\n",
       "\n",
       "    .dataframe tbody tr th {\n",
       "        vertical-align: top;\n",
       "    }\n",
       "\n",
       "    .dataframe thead th {\n",
       "        text-align: right;\n",
       "    }\n",
       "</style>\n",
       "<table border=\"1\" class=\"dataframe\">\n",
       "  <thead>\n",
       "    <tr style=\"text-align: right;\">\n",
       "      <th></th>\n",
       "      <th>score</th>\n",
       "    </tr>\n",
       "  </thead>\n",
       "  <tbody>\n",
       "    <tr>\n",
       "      <th>SVM</th>\n",
       "      <td>0.829</td>\n",
       "    </tr>\n",
       "    <tr>\n",
       "      <th>LogisticRegression</th>\n",
       "      <td>0.829</td>\n",
       "    </tr>\n",
       "    <tr>\n",
       "      <th>RandomForest</th>\n",
       "      <td>0.828</td>\n",
       "    </tr>\n",
       "    <tr>\n",
       "      <th>AdaBoost</th>\n",
       "      <td>0.818</td>\n",
       "    </tr>\n",
       "    <tr>\n",
       "      <th>ExtraTrees</th>\n",
       "      <td>0.816</td>\n",
       "    </tr>\n",
       "    <tr>\n",
       "      <th>XGBoost</th>\n",
       "      <td>0.813</td>\n",
       "    </tr>\n",
       "    <tr>\n",
       "      <th>Bagging</th>\n",
       "      <td>0.802</td>\n",
       "    </tr>\n",
       "    <tr>\n",
       "      <th>DecisionTree</th>\n",
       "      <td>0.766</td>\n",
       "    </tr>\n",
       "  </tbody>\n",
       "</table>\n",
       "</div>"
      ],
      "text/plain": [
       "                    score\n",
       "SVM                 0.829\n",
       "LogisticRegression  0.829\n",
       "RandomForest        0.828\n",
       "AdaBoost            0.818\n",
       "ExtraTrees          0.816\n",
       "XGBoost             0.813\n",
       "Bagging             0.802\n",
       "DecisionTree        0.766"
      ]
     },
     "execution_count": 494,
     "metadata": {},
     "output_type": "execute_result"
    }
   ],
   "source": [
    "mode"
   ]
  },
  {
   "cell_type": "markdown",
   "metadata": {},
   "source": [
    "##### 3.2: Hyperparameter optimization\n",
    "\n",
    "Tuning hyperparameters is an extensive topic. In this notebook, we want to focus on diagnostics after the model has been set up, so here we won't dive into optimizing each classifier's hyperparameters. Instead, we'll use a grid search to test several hyperparameters for XGBoost, SVM, and Random Forest models:"
   ]
  },
  {
   "cell_type": "code",
   "execution_count": 495,
   "metadata": {},
   "outputs": [],
   "source": [
    "parameters_xg = {'objective':['binary:logistic'], 'max_depth':[3,6,7], 'learning_rate': [0.1,0.2], 'n_estimators': [300,200], \n",
    "                 'min_child_weight': [4], 'reg_alpha': [6,0], 'reg_lambda': [1,8],'max_delta_step':[2],\n",
    "                 'gamma':[0],'seed':[1],'use_label_encoder':[False],'eval_metric':['logloss']}\n",
    "\n",
    "parameters_svm = {'C':[0.9,0.01],'kernel':['rbf','linear'], 'gamma':[0,0.1,'auto'], 'probability':[True,False],\n",
    "                  'random_state':[0,7,16],'decision_function_shape':['ovo','ovr'],'degree':[3,4,10]}\n",
    "\n",
    "parameters_rf = {'n_estimators': [100,50], 'max_features': [7,'auto',None],\n",
    "                 'n_jobs': [-1], 'min_samples_leaf': [2,4,], 'random_state':[1,7,], \n",
    "                 'min_samples_split':[2,6,], 'oob_score': [True,False],\n",
    "                 'criterion': ['gini'], 'warm_start': [False]}"
   ]
  },
  {
   "cell_type": "code",
   "execution_count": 496,
   "metadata": {},
   "outputs": [],
   "source": [
    "def grid(model,parameters):\n",
    "    grid = GridSearchCV(estimator = model, param_grid = parameters, cv = 10, \n",
    "                        scoring = 'accuracy')\n",
    "    grid.fit(X_train,y_train)\n",
    "    return grid.best_score_, grid.best_estimator_.get_params()"
   ]
  },
  {
   "cell_type": "code",
   "execution_count": 497,
   "metadata": {},
   "outputs": [],
   "source": [
    "def imp_features(model, model_name, params):\n",
    "    Model = model(**params)\n",
    "    Model.fit(X_train,y_train)\n",
    "    names = X_trainx.columns\n",
    "    feature = Model.feature_importances_\n",
    "    important_features = pd.Series(data = feature, index = names,)\n",
    "    important_features = important_features.sort_values(ascending = True)\n",
    "    return important_features.plot(kind = 'barh', grid = False,title = model_name)"
   ]
  },
  {
   "cell_type": "markdown",
   "metadata": {},
   "source": [
    "For XGBoost, we can see what it considers the most important classifiers, which are `TitleCat` and `Pclass`:"
   ]
  },
  {
   "cell_type": "code",
   "execution_count": 498,
   "metadata": {},
   "outputs": [
    {
     "data": {
      "text/plain": [
       "<AxesSubplot:title={'center':'XGBoostClassifier'}>"
      ]
     },
     "execution_count": 498,
     "metadata": {},
     "output_type": "execute_result"
    },
    {
     "data": {
      "image/png": "[encoded data removed]",
      "text/plain": [
       "<Figure size 432x288 with 1 Axes>"
      ]
     },
     "metadata": {
      "needs_background": "light"
     },
     "output_type": "display_data"
    }
   ],
   "source": [
    "best_score_xg, best_params_xg = grid(clf_xg,parameters_xg)\n",
    "imp_features(XGBClassifier, 'XGBoostClassifier', best_params_xg)"
   ]
  },
  {
   "cell_type": "markdown",
   "metadata": {},
   "source": [
    "This makes sense, as TitleCat is basically a more refined feature of gender, and combined with class make an excellent predictor of survival.\n",
    "\n",
    "Now XGBoost is doing much better in terms of accuracy:"
   ]
  },
  {
   "cell_type": "code",
   "execution_count": 499,
   "metadata": {},
   "outputs": [
    {
     "name": "stdout",
     "output_type": "stream",
     "text": [
      "0.8429213483146067\n"
     ]
    }
   ],
   "source": [
    "print(best_score_xg)"
   ]
  },
  {
   "cell_type": "markdown",
   "metadata": {},
   "source": [
    "Let's tune the Random Forest model hyperparameters:"
   ]
  },
  {
   "cell_type": "code",
   "execution_count": 500,
   "metadata": {},
   "outputs": [
    {
     "name": "stdout",
     "output_type": "stream",
     "text": [
      "0.844019975031211\n"
     ]
    },
    {
     "data": {
      "text/plain": [
       "<AxesSubplot:title={'center':'Random Forest'}>"
      ]
     },
     "execution_count": 500,
     "metadata": {},
     "output_type": "execute_result"
    },
    {
     "data": {
      "image/png": "[encoded data removed]",
      "text/plain": [
       "<Figure size 432x288 with 1 Axes>"
      ]
     },
     "metadata": {
      "needs_background": "light"
     },
     "output_type": "display_data"
    }
   ],
   "source": [
    "best_score_rf, best_params_rf = grid(clf_rf, parameters_rf)\n",
    "print(best_score_rf)\n",
    "imp_features(RandomForestClassifier,'Random Forest', best_params_rf)"
   ]
  },
  {
   "cell_type": "markdown",
   "metadata": {},
   "source": [
    "The most important parameters for our Random Forest is `TitleCat` (same as XGBoost), and `Female`. Its accuracy \n",
    "score is now better as well at over 84%.\n",
    "\n",
    "Let's also tune the Support Vector Machine:"
   ]
  },
  {
   "cell_type": "code",
   "execution_count": 501,
   "metadata": {},
   "outputs": [
    {
     "name": "stdout",
     "output_type": "stream",
     "text": [
      "0.8294132334581773\n"
     ]
    }
   ],
   "source": [
    "best_score_svm, best_params_svm = grid(clf_svm, parameters_svm)\n",
    "print(best_score_svm)"
   ]
  },
  {
   "cell_type": "code",
   "execution_count": 502,
   "metadata": {},
   "outputs": [],
   "source": [
    "clf_rf_best = RandomForestClassifier(**best_params_rf)\n",
    "clf_xg_best = XGBClassifier(**best_params_xg)\n",
    "clf_svm_best = SVC(**best_params_svm)"
   ]
  },
  {
   "cell_type": "markdown",
   "metadata": {},
   "source": [
    "##### 3.3: Ensemble Classifier built upon previous classifiers\n",
    "\n",
    "We'll also make an ensemble classifier, that does majority voting based on our tuned XGBoost, Random Forest, and SVM models:"
   ]
  },
  {
   "cell_type": "code",
   "execution_count": 503,
   "metadata": {},
   "outputs": [],
   "source": [
    "from sklearn.ensemble import VotingClassifier\n",
    "\n",
    "clf_e = VotingClassifier(estimators=[('xg', clf_xg_best), ('rf', clf_rf_best), ('svm', clf_svm_best)], voting='hard')"
   ]
  },
  {
   "cell_type": "code",
   "execution_count": 504,
   "metadata": {},
   "outputs": [],
   "source": [
    "best_scores = []\n",
    "best_models = [clf_rf_best, clf_et, clf_bc, clf_ada, clf_dt, clf_xg_best, clf_lr, clf_svm_best, clf_e]\n",
    "for model in best_models:\n",
    "    score = cross_val_score(model, X_train, y_train, scoring = 'accuracy', cv = 10, n_jobs = -1).mean()\n",
    "    best_scores.append(score)"
   ]
  },
  {
   "cell_type": "code",
   "execution_count": 505,
   "metadata": {},
   "outputs": [],
   "source": [
    "NewClassifiers = ['RandomForest','ExtraTrees','Bagging','AdaBoost','DecisionTree','XGBoost','LogisticRegression','SVM','Ensemble']\n",
    "mode = pd.DataFrame(best_scores, index = NewClassifiers, columns = ['score']).sort_values(by = 'score',\n",
    "             ascending = False)"
   ]
  },
  {
   "cell_type": "markdown",
   "metadata": {},
   "source": [
    "Here's the accuracy scores now for our models:"
   ]
  },
  {
   "cell_type": "code",
   "execution_count": 506,
   "metadata": {},
   "outputs": [
    {
     "data": {
      "text/html": [
       "<div>\n",
       "<style scoped>\n",
       "    .dataframe tbody tr th:only-of-type {\n",
       "        vertical-align: middle;\n",
       "    }\n",
       "\n",
       "    .dataframe tbody tr th {\n",
       "        vertical-align: top;\n",
       "    }\n",
       "\n",
       "    .dataframe thead th {\n",
       "        text-align: right;\n",
       "    }\n",
       "</style>\n",
       "<table border=\"1\" class=\"dataframe\">\n",
       "  <thead>\n",
       "    <tr style=\"text-align: right;\">\n",
       "      <th></th>\n",
       "      <th>score</th>\n",
       "    </tr>\n",
       "  </thead>\n",
       "  <tbody>\n",
       "    <tr>\n",
       "      <th>RandomForest</th>\n",
       "      <td>0.844</td>\n",
       "    </tr>\n",
       "    <tr>\n",
       "      <th>XGBoost</th>\n",
       "      <td>0.843</td>\n",
       "    </tr>\n",
       "    <tr>\n",
       "      <th>Ensemble</th>\n",
       "      <td>0.843</td>\n",
       "    </tr>\n",
       "    <tr>\n",
       "      <th>SVM</th>\n",
       "      <td>0.829</td>\n",
       "    </tr>\n",
       "    <tr>\n",
       "      <th>LogisticRegression</th>\n",
       "      <td>0.829</td>\n",
       "    </tr>\n",
       "    <tr>\n",
       "      <th>ExtraTrees</th>\n",
       "      <td>0.822</td>\n",
       "    </tr>\n",
       "    <tr>\n",
       "      <th>AdaBoost</th>\n",
       "      <td>0.818</td>\n",
       "    </tr>\n",
       "    <tr>\n",
       "      <th>Bagging</th>\n",
       "      <td>0.811</td>\n",
       "    </tr>\n",
       "    <tr>\n",
       "      <th>DecisionTree</th>\n",
       "      <td>0.771</td>\n",
       "    </tr>\n",
       "  </tbody>\n",
       "</table>\n",
       "</div>"
      ],
      "text/plain": [
       "                    score\n",
       "RandomForest        0.844\n",
       "XGBoost             0.843\n",
       "Ensemble            0.843\n",
       "SVM                 0.829\n",
       "LogisticRegression  0.829\n",
       "ExtraTrees          0.822\n",
       "AdaBoost            0.818\n",
       "Bagging             0.811\n",
       "DecisionTree        0.771"
      ]
     },
     "execution_count": 506,
     "metadata": {},
     "output_type": "execute_result"
    }
   ],
   "source": [
    "mode\n"
   ]
  },
  {
   "cell_type": "markdown",
   "metadata": {},
   "source": [
    "##### 3.4: ROC AUC scoring\n",
    "\n",
    "We'll now look at ROC AUC scoring for all our models:"
   ]
  },
  {
   "cell_type": "code",
   "execution_count": 507,
   "metadata": {},
   "outputs": [
    {
     "data": {
      "text/html": [
       "<div>\n",
       "<style scoped>\n",
       "    .dataframe tbody tr th:only-of-type {\n",
       "        vertical-align: middle;\n",
       "    }\n",
       "\n",
       "    .dataframe tbody tr th {\n",
       "        vertical-align: top;\n",
       "    }\n",
       "\n",
       "    .dataframe thead th {\n",
       "        text-align: right;\n",
       "    }\n",
       "</style>\n",
       "<table border=\"1\" class=\"dataframe\">\n",
       "  <thead>\n",
       "    <tr style=\"text-align: right;\">\n",
       "      <th></th>\n",
       "      <th>score</th>\n",
       "    </tr>\n",
       "  </thead>\n",
       "  <tbody>\n",
       "    <tr>\n",
       "      <th>RandomForest</th>\n",
       "      <td>0.877</td>\n",
       "    </tr>\n",
       "    <tr>\n",
       "      <th>SVM</th>\n",
       "      <td>0.874</td>\n",
       "    </tr>\n",
       "    <tr>\n",
       "      <th>LogisticRegression</th>\n",
       "      <td>0.873</td>\n",
       "    </tr>\n",
       "    <tr>\n",
       "      <th>XGBoost</th>\n",
       "      <td>0.873</td>\n",
       "    </tr>\n",
       "    <tr>\n",
       "      <th>Bagging</th>\n",
       "      <td>0.858</td>\n",
       "    </tr>\n",
       "    <tr>\n",
       "      <th>ExtraTrees</th>\n",
       "      <td>0.853</td>\n",
       "    </tr>\n",
       "    <tr>\n",
       "      <th>AdaBoost</th>\n",
       "      <td>0.850</td>\n",
       "    </tr>\n",
       "    <tr>\n",
       "      <th>DecisionTree</th>\n",
       "      <td>0.755</td>\n",
       "    </tr>\n",
       "  </tbody>\n",
       "</table>\n",
       "</div>"
      ],
      "text/plain": [
       "                    score\n",
       "RandomForest        0.877\n",
       "SVM                 0.874\n",
       "LogisticRegression  0.873\n",
       "XGBoost             0.873\n",
       "Bagging             0.858\n",
       "ExtraTrees          0.853\n",
       "AdaBoost            0.850\n",
       "DecisionTree        0.755"
      ]
     },
     "execution_count": 507,
     "metadata": {},
     "output_type": "execute_result"
    }
   ],
   "source": [
    "best_scores = []\n",
    "best_models = [clf_rf_best, clf_et, clf_bc, clf_ada, clf_dt, clf_xg_best, clf_lr, clf_svm_best]\n",
    "for model in best_models:\n",
    "    score = cross_val_score(model, X_train, y_train, scoring = 'roc_auc', cv = 10, n_jobs = -1).mean()\n",
    "    best_scores.append(score)\n",
    "mode = pd.DataFrame(best_scores, index = Classifiers, columns = ['score']).sort_values(by = 'score',\n",
    "             ascending = False)\n",
    "mode"
   ]
  },
  {
   "cell_type": "markdown",
   "metadata": {},
   "source": [
    "##### 3.5: Submitting predictions to Kaggle to obtain test set results\n",
    "\n",
    "Submitting predictions from our top models to [Kaggle](https://www.kaggle.com/c/titanic/submit) for the test set yielded Random Forest giving our top score at 79.186% accuracy when first run:"
   ]
  },
  {
   "cell_type": "code",
   "execution_count": 508,
   "metadata": {},
   "outputs": [
    {
     "name": "stdout",
     "output_type": "stream",
     "text": [
      "Done\n"
     ]
    }
   ],
   "source": [
    "#clf_e.fit(X_train, y_train)\n",
    "#clf_xg_best.fit(X_train, y_train)\n",
    "#clf_rf_best.fit(X_train, y_train)\n",
    "#clf_svm_best.fit(X_train, y_train)\n",
    "clf_lr.fit(X_train, y_train)\n",
    "\n",
    "\n",
    "#preds = clf_e.predict(X_test).astype(int) # 0.78468\n",
    "#preds = clf_xg_best.predict(X_test).astype(int) #0.77033\n",
    "#preds = clf_rf_best.predict(X_test).astype(int) # 0.79186\n",
    "#preds = clf_svm_best.predict(X_test).astype(int) #0.77272\n",
    "preds = clf_lr.predict(X_test).astype(int) # 0.77511\n",
    "\n",
    "predictions = pd.DataFrame()\n",
    "predictions['PassengerId'] = test['PassengerId']\n",
    "predictions['Survived'] = preds\n",
    "predictions.set_index('PassengerId', inplace=True, drop=True)\n",
    "predictions.to_csv('lr_jup2.csv')\n",
    "print(\"Done\")"
   ]
  },
  {
   "cell_type": "markdown",
   "metadata": {},
   "source": [
    "##### 3.6: Confusion Matrices and ROC Curves\n",
    "\n",
    "Let's evaluate the confusion matrix and ROC Curve of these models.\n",
    "In a typical machine learning problem where we don't want to evaluate the test set while improving our model, one approach is to create a development test set out of the training set. From the 891 passengers in the training set, where we have their survival data, we'll split this 75% into a reduced training set, and 25% into a development test set. In this development test set, we have the survival data. It is noted that we have trained our hyperparameters for our models on the development test set data already.\n",
    "\n",
    "Set up development test set and train our top four models:"
   ]
  },
  {
   "cell_type": "code",
   "execution_count": 509,
   "metadata": {},
   "outputs": [
    {
     "data": {
      "text/plain": [
       "LogisticRegression()"
      ]
     },
     "execution_count": 509,
     "metadata": {},
     "output_type": "execute_result"
    }
   ],
   "source": [
    "from sklearn.metrics import roc_curve, auc\n",
    "from sklearn.model_selection import train_test_split\n",
    "\n",
    "# Set up new training set and test set for ROC curve analysis\n",
    "roc_X_train, roc_X_test, roc_y_train, roc_y_test = train_test_split(X_train, y_train, test_size=.25, random_state=42)\n",
    "\n",
    "# Re-train models on the new training set\n",
    "clf_rf_roc = RandomForestClassifier(**best_params_rf)\n",
    "clf_rf_roc.fit(roc_X_train, roc_y_train)\n",
    "clf_xg_roc = XGBClassifier(**best_params_xg)\n",
    "clf_xg_roc.fit(roc_X_train, roc_y_train)\n",
    "clf_svm_roc = SVC(**best_params_svm)\n",
    "clf_svm_roc.fit(roc_X_train, roc_y_train)\n",
    "clf_lr_roc = LogisticRegression()\n",
    "clf_lr_roc.fit(roc_X_train, roc_y_train)"
   ]
  },
  {
   "cell_type": "code",
   "execution_count": 510,
   "metadata": {},
   "outputs": [],
   "source": [
    "from sklearn.metrics import confusion_matrix\n",
    "from sklearn.metrics import accuracy_score\n",
    "\n",
    "best_models = [clf_rf_roc, clf_svm_roc, clf_lr_roc, clf_xg_roc]\n",
    "model_names = ['Random Forest', 'SVM', 'Linear Regression', 'XGBoost']\n",
    "\n",
    "conf = []\n",
    "for model in best_models:\n",
    "    conf.append(confusion_matrix(roc_y_test, model.predict(roc_X_test)))"
   ]
  },
  {
   "cell_type": "markdown",
   "metadata": {},
   "source": [
    "Here's the confusion matrices for our classifiers. The True value is found on the y-axis, and the Predicted value is found on the x-axis."
   ]
  },
  {
   "cell_type": "code",
   "execution_count": 511,
   "metadata": {},
   "outputs": [
    {
     "data": {
      "image/png": "[encoded data removed]",
      "text/plain": [
       "<Figure size 1152x288 with 8 Axes>"
      ]
     },
     "metadata": {
      "needs_background": "light"
     },
     "output_type": "display_data"
    }
   ],
   "source": [
    "i = 0\n",
    "fig = plt.figure(figsize=(16,4))\n",
    "#fig, axs = plt.subplots(1,len(best_models))\n",
    "for model in best_models:\n",
    "    plt.subplot(1, len(best_models), i+1)\n",
    "    sns.heatmap(conf[i], annot = True, fmt='d')\n",
    "    plt.title(model_names[i])\n",
    "    plt.xlabel(\"Prediction: (0 = Perished. 1 = Survived)\")\n",
    "    if i==0:\n",
    "        plt.ylabel('True Value')    \n",
    "    i += 1"
   ]
  },
  {
   "cell_type": "markdown",
   "metadata": {},
   "source": [
    "This shows:\n",
    "* True positives in bottom right\n",
    "* True negatives in top left\n",
    "* False positives in top right\n",
    "* False negatives in bottom left\n",
    "\n",
    "We see all models performed quite similarly, with Random Forest having the most true positives.\n",
    "\n",
    "Here are scores for precision, sensitivity, specificity, as well as the F1 score."
   ]
  },
  {
   "cell_type": "code",
   "execution_count": 512,
   "metadata": {},
   "outputs": [
    {
     "name": "stdout",
     "output_type": "stream",
     "text": [
      "                   Precision  Sensitivity  Specificity     F1\n",
      "Random Forest          0.787        0.787        0.858  0.787\n",
      "SVM                    0.791        0.764        0.866  0.777\n",
      "Linear Regression      0.764        0.764        0.843  0.764\n",
      "XGBoost                0.770        0.753        0.851  0.761\n"
     ]
    }
   ],
   "source": [
    "conf_scores = []\n",
    "for c in conf:\n",
    "    precision   = c[1,1] / sum(c[:,1])\n",
    "    recall      = c[1,1] / sum(c[1,:])\n",
    "    specificity = c[0,0] / sum(c[0,:])\n",
    "    f1_score    = 2*precision*recall / (precision + recall)\n",
    "    conf_scores.append([precision, recall, specificity, f1_score])\n",
    "\n",
    "conf_score_names = [\"Precision\", \"Sensitivity\", \"Specificity\", \"F1\"]  \n",
    "pd.options.display.precision = 3\n",
    "print(pd.DataFrame(conf_scores, model_names, conf_score_names))"
   ]
  },
  {
   "cell_type": "markdown",
   "metadata": {},
   "source": [
    "Here are the ROC Curves and AUC scores for the top 4 models:"
   ]
  },
  {
   "cell_type": "code",
   "execution_count": 513,
   "metadata": {},
   "outputs": [
    {
     "data": {
      "image/png": "[encoded data removed]",
      "text/plain": [
       "<Figure size 1152x288 with 4 Axes>"
      ]
     },
     "metadata": {
      "needs_background": "light"
     },
     "output_type": "display_data"
    }
   ],
   "source": [
    "i = 0\n",
    "fig = plt.figure(figsize=(16,4))\n",
    "#fig, axs = plt.subplots(1,len(best_models))\n",
    "for model in best_models:\n",
    "    plt.subplot(1, len(best_models), i+1)\n",
    "    # Determine the false positive and true positive rates\n",
    "    fpr, tpr, thresholds = roc_curve(roc_y_test, model.predict_proba(roc_X_test)[:,1])\n",
    "    # Calculate the AUC\n",
    "    roc_auc = auc(fpr, tpr)\n",
    "    plt.plot(fpr, tpr, label='ROC curve (AUC = %0.3f)' % roc_auc)\n",
    "    plt.plot([0, 1], [0, 1], 'k--')\n",
    "    plt.xlim([0.0, 1.0])\n",
    "    plt.ylim([0.0, 1.05])\n",
    "    plt.xlabel('False Positive Rate')\n",
    "    if i==0:\n",
    "        plt.ylabel('True Positive Rate')\n",
    "    plt.legend(loc=\"lower right\")\n",
    "    plt.title(model_names[i])\n",
    "    i += 1"
   ]
  },
  {
   "cell_type": "markdown",
   "metadata": {},
   "source": [
    "All have similar areas under the curve. The Random Forest classifier is smoother than XGBoost and SVM in the area when the False Positive Rate is around 10%. The Linear Regression model by the slimmest of margins has the highest area under the curve (AUC). If True Positive Rate or False Positive Rate need to be at certain levels, these graphs can help select the model and the threshold of the classifier to use.\n",
    "\n",
    "#### Step 4. Diagnostics on Bias and Variance\n",
    "\n",
    "In order to check whether our classifiers are suffering from high bias or variance, we'll see how increasing the number of training examples changes the accuracy of the models. This is the diagnostic taught by Professor Ng in CS 229 [Lecture 13](https://www.youtube.com/watch?v=ORrStCArmP4). The theory is that if the gap between training accuracy and test accuracy remains high as we add more training examples, then the problem with the model is likely overfitting (high variance). If the gap between training and test accuracy is small, and the accuracies plateau at a certain number of training examples, and these accuracies aren't at the desired performance, then the problem is likely high bias."
   ]
  },
  {
   "cell_type": "code",
   "execution_count": 514,
   "metadata": {},
   "outputs": [],
   "source": [
    "def model_pred(model, s):\n",
    "    model.fit(roc_X_train[0:s], roc_y_train[0:s])\n",
    "    modelpredtest = model.predict(roc_X_test)\n",
    "    modelpredtraining = model.predict(roc_X_train[0:s])\n",
    "    return accuracy_score(roc_y_test, modelpredtest), accuracy_score(roc_y_train[0:s], modelpredtraining)"
   ]
  },
  {
   "cell_type": "code",
   "execution_count": 515,
   "metadata": {},
   "outputs": [],
   "source": [
    "max_restricted_training_size = len(roc_X_train)\n",
    "x = np.arange(2,max_restricted_training_size, 20)\n",
    "accuracy_training = []\n",
    "accuracy_test = []\n",
    "best_models = [clf_rf_roc, clf_svm_roc, clf_lr_roc, clf_xg_roc]\n",
    "model_names = ['Random Forest', 'SVM', 'Linear Regression', 'XGBoost']\n",
    "\n",
    "for model in best_models:\n",
    "    y1 = np.zeros(x.shape)\n",
    "    y2 = np.zeros(x.shape)\n",
    "    j = 0\n",
    "    for i in x:\n",
    "        y1[j], y2[j] = model_pred(model, i)\n",
    "        j += 1\n",
    "    accuracy_test.append(y1)\n",
    "    accuracy_training.append(y2)"
   ]
  },
  {
   "cell_type": "code",
   "execution_count": 516,
   "metadata": {},
   "outputs": [
    {
     "data": {
      "image/png": "[encoded data removed]",
      "text/plain": [
       "<Figure size 1152x288 with 4 Axes>"
      ]
     },
     "metadata": {
      "needs_background": "light"
     },
     "output_type": "display_data"
    }
   ],
   "source": [
    "i = 0\n",
    "fig = plt.figure(figsize=(16,4))\n",
    "#fig, axs = plt.subplots(1,len(best_models))\n",
    "for model in best_models:\n",
    "    plt.subplot(1, len(best_models), i+1)\n",
    "    plt.plot(x, accuracy_training[i])\n",
    "    plt.plot(x, accuracy_test[i])\n",
    "    plt.plot(x, np.array([0.85 for j in range(len(x))]), 'k--')\n",
    "    plt.ylim([0.0, 1.0])\n",
    "    plt.xlabel('Size of training set')\n",
    "    if i==0:\n",
    "        plt.ylabel('Accuracy')\n",
    "    plt.title(model_names[i])\n",
    "    plt.legend(['Training Accuracy', 'Test Accuracy', 'Desired Performance'], loc=\"lower right\")\n",
    "    i += 1\n"
   ]
  },
  {
   "cell_type": "markdown",
   "metadata": {},
   "source": [
    "For the Random Forest and XGBoost classifiers, there is a large gap in the training error and test error, which is indicative of high variance. This makes sense as these algorithms are prone to overfitting, and we haven't done much work on the hyperparameters of these classifiers to combat this. So for the Random Forest and XGBoost classifiers, working on the hyperparameters to reduce variance is indicated.\n",
    "\n",
    "For SVM and Linear Regression, we see the training and test accuracy relatively flat after 200 training examples, and lower than our desired test accuracy. This is indicative of high bias. That is, even with more data, it doesn't seem like the models will improve. In general, more training data does not seem to be helping these algorithms after 200-300 data points, so focusing on reducing bias looks to be indicated. This would look to add more features, and get more information out of the data.\n",
    "\n",
    "For example, we could do more feature engineering to add features such as:\n",
    "* Mother - Female with a child on board\n",
    "* Child - Under 18 with a mother on board\n",
    "\n",
    "We could also have a separate model to predict age, as many passengers had missing age information, and we initially just based a person's age on their title. This is not very accurate and led many people to have the same assumed age (especially men with title \"Mr.\" which all received the same estimate of their age if it was missing).\n",
    "\n",
    "One other approach is to add features that rely on knowledge of the survival of people in the training set. For example, if we know from the training set that a mother survives, then it is likely the mother's children survived. If we know someone in a family survives, then it's more likely other family members survived.\n",
    "\n",
    "Another approach to reduce bias is to manually inspect the false positives and false negatives of a model to see if there is some piece of information that isn't accurately given in our features that could help the model predict the correct outcome. Better features could arise from such an analysis.\n"
   ]
  },
  {
   "cell_type": "markdown",
   "metadata": {},
   "source": [
    "#### Step 5: Error Analysis\n",
    "Another diagnostic to perform is error analysis. Let's take the important features in the Random Forest model and iteratively remove the least important feature to see how this affects prediction accuracy."
   ]
  },
  {
   "cell_type": "code",
   "execution_count": 517,
   "metadata": {},
   "outputs": [
    {
     "data": {
      "text/plain": [
       "<AxesSubplot:title={'center':'Random Forest'}>"
      ]
     },
     "execution_count": 517,
     "metadata": {},
     "output_type": "execute_result"
    },
    {
     "data": {
      "image/png": "[encoded data removed]",
      "text/plain": [
       "<Figure size 432x288 with 1 Axes>"
      ]
     },
     "metadata": {
      "needs_background": "light"
     },
     "output_type": "display_data"
    }
   ],
   "source": [
    "imp_features(RandomForestClassifier,'Random Forest', best_params_rf)"
   ]
  },
  {
   "cell_type": "code",
   "execution_count": 518,
   "metadata": {},
   "outputs": [],
   "source": [
    "drop_order = ['Parch', 'EmbarkedCat', 'SibSp', 'FamilySizeCat', 'DeckCat', 'Age', 'Pclass', 'NameLength', 'Fare', 'Female']\n",
    "\n",
    "accuracies = []\n",
    "\n",
    "def dropandreport(i):\n",
    "    X_trainx_reduced = X_trainx.drop(drop_order[0:i], axis=1)\n",
    "    X_train_reduced = StandardScaler().fit_transform(X_trainx_reduced)\n",
    "    roc_X_train_reduced, roc_X_test_reduced, roc_y_train_reduced, roc_y_test_reduced = train_test_split(X_train_reduced, y_train, test_size=.25, random_state=42)\n",
    "    clf_rf_roc_reduced = RandomForestClassifier(**best_params_rf)\n",
    "    clf_rf_roc_reduced.fit(roc_X_train_reduced, roc_y_train_reduced)\n",
    "    roc_pred_reduced = clf_rf_roc_reduced.predict(roc_X_test_reduced)\n",
    "    accuracy_score_reduced = accuracy_score(roc_y_test_reduced, roc_pred_reduced)\n",
    "    accuracies.append(accuracy_score_reduced)\n",
    "\n",
    "# Accuracy will all features\n",
    "dropandreport(0)\n",
    "# Drop features iteratively and see how accuracy changes\n",
    "for i in range(len(drop_order)):\n",
    "    dropandreport(i+1)"
   ]
  },
  {
   "cell_type": "markdown",
   "metadata": {},
   "source": [
    "In the graph below, the first bar is the accuracy with all features (Full Data). Subsequent bars show the accuracy of the Random Forest model after the feature in the bar has been removed."
   ]
  },
  {
   "cell_type": "code",
   "execution_count": 519,
   "metadata": {},
   "outputs": [
    {
     "data": {
      "text/plain": [
       "Text(0.5, 1.0, 'Error Analysis: Accuracy as we remove features one by one in a Random Forest model')"
      ]
     },
     "execution_count": 519,
     "metadata": {},
     "output_type": "execute_result"
    },
    {
     "data": {
      "image/png": "[encoded data removed]",
      "text/plain": [
       "<Figure size 432x288 with 1 Axes>"
      ]
     },
     "metadata": {
      "needs_background": "light"
     },
     "output_type": "display_data"
    }
   ],
   "source": [
    "x_pos = [i for i, _ in enumerate([\"Full Data\"] + drop_order)]\n",
    "#plt.bar(x_pos, accuracies)\n",
    "plt.bar([\"Full Data\"] + drop_order, accuracies)\n",
    "plt.ylim([0.7, 1.0])\n",
    "plt.xticks(x_pos, [\"Full Data\"] + drop_order)\n",
    "plt.setp(plt.gca().get_xticklabels(), rotation=45, horizontalalignment='right')\n",
    "plt.ylabel('Accuracy')\n",
    "plt.title(\"Error Analysis: Accuracy as we remove features one by one in a Random Forest model\")"
   ]
  },
  {
   "cell_type": "markdown",
   "metadata": {},
   "source": [
    "Accuracy rose after the following were dropped:\n",
    "    <ul>\n",
    "    <li>SibSp</li>\n",
    "    <li>DeckCat</li>\n",
    "    <li>NameLength</li>\n",
    "    </ul>\n",
    "This suggests these features may not be so important.\n",
    "\n",
    "Accuracy fell the most when `Pclass` was dropped, suggesting it has a lot of predictive value, which in our exploration of data was indeed the case. The most used feature was `TitleCat` which takes into account gender. Combined, gender and class seem to be the most useful.\n",
    "\n",
    "#### Conclusions\n",
    "\n",
    "The above notebook describes how to perform an analysis on models using a confusion matrix and ROC curves, in the event that the True Positive Rate and False Positive Rate are of interest.\n",
    "\n",
    "We also covered performing diagnostics on models to see if the model suffers from high bias or high variance, by varying the number of training examples used and quantifying training set and test set accuracy. As well, we performed ablative analysis on our features to understand which features are important for our models and which may be just leading to overfitting.\n",
    "\n",
    "In this challenge, gender and class look to be the primary sources of information that differentiate those that survived and those that perished on the Titanic. Extracting useful information from the other fields in the data set, without overfitting the data looks to be the primary challenge in improving predictions.\n",
    "\n",
    "This notebook did not cover extensive work on optimizing hyperparameters of our models, nor did it cover all models which could be used as binary classifiers, such as neural networks. However, with the diagnostics explained in this tutorial, it points the way into how to improve models to gain optimal accuracy of predictions."
   ]
  }
 ],
 "metadata": {
  "kernelspec": {
   "display_name": "Python 3",
   "language": "python",
   "name": "python3"
  },
  "language_info": {
   "codemirror_mode": {
    "name": "ipython",
    "version": 3
   },
   "file_extension": ".py",
   "mimetype": "text/x-python",
   "name": "python",
   "nbconvert_exporter": "python",
   "pygments_lexer": "ipython3",
   "version": "3.8.5"
  }
 },
 "nbformat": 4,
 "nbformat_minor": 4
}
